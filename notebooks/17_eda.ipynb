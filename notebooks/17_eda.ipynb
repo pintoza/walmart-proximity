{
 "cells": [
  {
   "cell_type": "code",
   "execution_count": 4,
   "id": "initial_id",
   "metadata": {
    "collapsed": true,
    "ExecuteTime": {
     "end_time": "2024-01-08T04:33:17.473001Z",
     "start_time": "2024-01-08T04:33:16.890896Z"
    }
   },
   "outputs": [
    {
     "name": "stdout",
     "output_type": "stream",
     "text": [
      "Total number of combinations: 1974750\n"
     ]
    }
   ],
   "source": [
    "import pandas as pd\n",
    "\n",
    "# Load the time_distance.csv file\n",
    "time_distance = pd.read_csv('/Users/pintoza/Desktop/dev/data-science/walmart-proximity/data/processed/time_distance.csv')\n",
    "\n",
    "# Initialize a counter\n",
    "total_combinations = 0\n",
    "\n",
    "# Loop through each row and count the number of Walmart stores for each ZIP code\n",
    "for index, row in time_distance.iterrows():\n",
    "    # Split the string of Walmart store numbers and count them\n",
    "    stores = str(row['walmarts_pot_60']).split(' ')\n",
    "    # Filter out any empty strings in case of missing data\n",
    "    stores = [store for store in stores if store.strip()]\n",
    "    total_combinations += len(stores)\n",
    "\n",
    "print(f\"Total number of combinations: {total_combinations}\")\n"
   ]
  },
  {
   "cell_type": "code",
   "execution_count": null,
   "outputs": [],
   "source": [],
   "metadata": {
    "collapsed": false
   },
   "id": "3fd88fba8193f138"
  }
 ],
 "metadata": {
  "kernelspec": {
   "display_name": "Python 3",
   "language": "python",
   "name": "python3"
  },
  "language_info": {
   "codemirror_mode": {
    "name": "ipython",
    "version": 2
   },
   "file_extension": ".py",
   "mimetype": "text/x-python",
   "name": "python",
   "nbconvert_exporter": "python",
   "pygments_lexer": "ipython2",
   "version": "2.7.6"
  }
 },
 "nbformat": 4,
 "nbformat_minor": 5
}
