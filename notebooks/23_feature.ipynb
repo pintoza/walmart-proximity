{
 "cells": [
  {
   "cell_type": "code",
   "execution_count": 1,
   "id": "initial_id",
   "metadata": {
    "collapsed": true,
    "ExecuteTime": {
     "end_time": "2024-01-07T03:26:47.799064Z",
     "start_time": "2024-01-07T02:36:56.094161Z"
    }
   },
   "outputs": [],
   "source": [
    "import pandas as pd\n",
    "from geopy.distance import great_circle\n",
    "\n",
    "# Load your data\n",
    "walmart_geocoded = pd.read_csv('/Users/pintoza/Desktop/dev/data-science/walmart-proximity/data/processed/walmart_geocoded.csv')\n",
    "zips_geocoded = pd.read_csv('/Users/pintoza/Desktop/dev/data-science/walmart-proximity/data/processed/zips_geocoded.csv')\n",
    "distance_data = pd.read_csv('/Users/pintoza/Desktop/dev/data-science/walmart-proximity/data/processed/distance.csv')\n",
    "\n",
    "# Define the model estimation function\n",
    "def estimate_driving_time(great_circle_distance, ruca):\n",
    "    coefficients = {\n",
    "        'great_circle_distance': 0.994726,\n",
    "        'ruca_Rural': 6.971043,\n",
    "        'ruca_Suburban': 0.180369,\n",
    "        'ruca_Urban': -7.151412,\n",
    "    }\n",
    "    intercept = 0\n",
    "    estimated_time = intercept + coefficients['great_circle_distance'] * great_circle_distance\n",
    "    if ruca == 'Rural':\n",
    "        estimated_time += coefficients['ruca_Rural']\n",
    "    elif ruca == 'Suburban':\n",
    "        estimated_time += coefficients['ruca_Suburban']\n",
    "    elif ruca == 'Urban':\n",
    "        estimated_time += coefficients['ruca_Urban']\n",
    "    return estimated_time\n",
    "\n",
    "# Prepare a CSV file to store the results with headers\n",
    "output_file = '/Users/pintoza/Desktop/dev/data-science/walmart-proximity/data/processed/time.csv'\n",
    "with open(output_file, 'w') as f:\n",
    "    f.write('zip,15_min,30_min,45_min,60_min\\n')  \n",
    "\n",
    "# Loop through each ZIP code in distance.csv\n",
    "for index, row in distance_data.iterrows():\n",
    "    zip_code = row['zip']\n",
    "    if pd.isna(row['nearby_walmarts']):\n",
    "        continue  # Skip ZIP codes with no nearby Walmarts\n",
    "\n",
    "    nearby_stores = [store.strip() for store in str(row['nearby_walmarts']).split(',')]\n",
    "    time_counts = {'15_min': 0, '30_min': 0, '45_min': 0, '60_min': 0}\n",
    "\n",
    "    for store_number in nearby_stores:\n",
    "        store_number = int(store_number)\n",
    "        if store_number in walmart_geocoded['Store #'].values:\n",
    "            store_coords = walmart_geocoded[walmart_geocoded['Store #'] == store_number][['latitude', 'longitude']].iloc[0]\n",
    "            zip_coords = zips_geocoded[zips_geocoded['zip'] == zip_code][['latitude', 'longitude', 'ruca']].iloc[0]\n",
    "            distance = great_circle((zip_coords['latitude'], zip_coords['longitude']), (store_coords['latitude'], store_coords['longitude'])).miles\n",
    "            ruca = zip_coords['ruca']\n",
    "            estimated_time = estimate_driving_time(distance, ruca)\n",
    "\n",
    "            # Increment the appropriate time count\n",
    "            if estimated_time <= 15:\n",
    "                time_counts['15_min'] += 1\n",
    "                time_counts['30_min'] += 1\n",
    "                time_counts['45_min'] += 1\n",
    "                time_counts['60_min'] += 1\n",
    "            elif estimated_time <= 30:\n",
    "                time_counts['30_min'] += 1\n",
    "                time_counts['45_min'] += 1\n",
    "                time_counts['60_min'] += 1\n",
    "            elif estimated_time <= 45:\n",
    "                time_counts['45_min'] += 1\n",
    "                time_counts['60_min'] += 1\n",
    "            elif estimated_time <= 60:\n",
    "                time_counts['60_min'] += 1\n",
    "\n",
    "    # Append this ZIP code's counts to the CSV file\n",
    "    with open(output_file, 'a') as f:\n",
    "        line = f\"{zip_code},{time_counts['15_min']},{time_counts['30_min']},{time_counts['45_min']},{time_counts['60_min']}\\n\"\n",
    "        f.write(line)"
   ]
  },
  {
   "cell_type": "code",
   "execution_count": null,
   "outputs": [],
   "source": [],
   "metadata": {
    "collapsed": false
   },
   "id": "60737781311ac00d"
  }
 ],
 "metadata": {
  "kernelspec": {
   "display_name": "Python 3",
   "language": "python",
   "name": "python3"
  },
  "language_info": {
   "codemirror_mode": {
    "name": "ipython",
    "version": 2
   },
   "file_extension": ".py",
   "mimetype": "text/x-python",
   "name": "python",
   "nbconvert_exporter": "python",
   "pygments_lexer": "ipython2",
   "version": "2.7.6"
  }
 },
 "nbformat": 4,
 "nbformat_minor": 5
}
