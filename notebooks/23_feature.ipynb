{
 "cells": [
  {
   "cell_type": "code",
   "execution_count": 3,
   "id": "initial_id",
   "metadata": {
    "collapsed": true,
    "ExecuteTime": {
     "end_time": "2024-01-07T15:08:35.912188Z",
     "start_time": "2024-01-07T15:07:12.429550Z"
    }
   },
   "outputs": [
    {
     "ename": "KeyboardInterrupt",
     "evalue": "",
     "output_type": "error",
     "traceback": [
      "\u001B[0;31m---------------------------------------------------------------------------\u001B[0m",
      "\u001B[0;31mKeyboardInterrupt\u001B[0m                         Traceback (most recent call last)",
      "Cell \u001B[0;32mIn[3], line 44\u001B[0m\n\u001B[1;32m     42\u001B[0m store_number \u001B[38;5;241m=\u001B[39m \u001B[38;5;28mint\u001B[39m(store_number)\n\u001B[1;32m     43\u001B[0m \u001B[38;5;28;01mif\u001B[39;00m store_number \u001B[38;5;129;01min\u001B[39;00m walmart_geocoded[\u001B[38;5;124m'\u001B[39m\u001B[38;5;124mStore #\u001B[39m\u001B[38;5;124m'\u001B[39m]\u001B[38;5;241m.\u001B[39mvalues:\n\u001B[0;32m---> 44\u001B[0m     store_coords \u001B[38;5;241m=\u001B[39m walmart_geocoded[walmart_geocoded[\u001B[38;5;124m'\u001B[39m\u001B[38;5;124mStore #\u001B[39m\u001B[38;5;124m'\u001B[39m] \u001B[38;5;241m==\u001B[39m store_number][[\u001B[38;5;124m'\u001B[39m\u001B[38;5;124mlatitude\u001B[39m\u001B[38;5;124m'\u001B[39m, \u001B[38;5;124m'\u001B[39m\u001B[38;5;124mlongitude\u001B[39m\u001B[38;5;124m'\u001B[39m]]\u001B[38;5;241m.\u001B[39miloc[\u001B[38;5;241m0\u001B[39m]\n\u001B[1;32m     45\u001B[0m     zip_coords \u001B[38;5;241m=\u001B[39m zips_geocoded[zips_geocoded[\u001B[38;5;124m'\u001B[39m\u001B[38;5;124mzip\u001B[39m\u001B[38;5;124m'\u001B[39m] \u001B[38;5;241m==\u001B[39m zip_code][[\u001B[38;5;124m'\u001B[39m\u001B[38;5;124mlatitude\u001B[39m\u001B[38;5;124m'\u001B[39m, \u001B[38;5;124m'\u001B[39m\u001B[38;5;124mlongitude\u001B[39m\u001B[38;5;124m'\u001B[39m, \u001B[38;5;124m'\u001B[39m\u001B[38;5;124mruca\u001B[39m\u001B[38;5;124m'\u001B[39m]]\u001B[38;5;241m.\u001B[39miloc[\u001B[38;5;241m0\u001B[39m]\n\u001B[1;32m     46\u001B[0m     distance \u001B[38;5;241m=\u001B[39m great_circle((zip_coords[\u001B[38;5;124m'\u001B[39m\u001B[38;5;124mlatitude\u001B[39m\u001B[38;5;124m'\u001B[39m], zip_coords[\u001B[38;5;124m'\u001B[39m\u001B[38;5;124mlongitude\u001B[39m\u001B[38;5;124m'\u001B[39m]), (store_coords[\u001B[38;5;124m'\u001B[39m\u001B[38;5;124mlatitude\u001B[39m\u001B[38;5;124m'\u001B[39m], store_coords[\u001B[38;5;124m'\u001B[39m\u001B[38;5;124mlongitude\u001B[39m\u001B[38;5;124m'\u001B[39m]))\u001B[38;5;241m.\u001B[39mmiles\n",
      "File \u001B[0;32m/opt/homebrew/Caskroom/miniconda/base/envs/walmart/lib/python3.11/site-packages/pandas/core/frame.py:3884\u001B[0m, in \u001B[0;36mDataFrame.__getitem__\u001B[0;34m(self, key)\u001B[0m\n\u001B[1;32m   3882\u001B[0m \u001B[38;5;66;03m# Do we have a (boolean) 1d indexer?\u001B[39;00m\n\u001B[1;32m   3883\u001B[0m \u001B[38;5;28;01mif\u001B[39;00m com\u001B[38;5;241m.\u001B[39mis_bool_indexer(key):\n\u001B[0;32m-> 3884\u001B[0m     \u001B[38;5;28;01mreturn\u001B[39;00m \u001B[38;5;28mself\u001B[39m\u001B[38;5;241m.\u001B[39m_getitem_bool_array(key)\n\u001B[1;32m   3886\u001B[0m \u001B[38;5;66;03m# We are left with two options: a single key, and a collection of keys,\u001B[39;00m\n\u001B[1;32m   3887\u001B[0m \u001B[38;5;66;03m# We interpret tuples as collections only for non-MultiIndex\u001B[39;00m\n\u001B[1;32m   3888\u001B[0m is_single_key \u001B[38;5;241m=\u001B[39m \u001B[38;5;28misinstance\u001B[39m(key, \u001B[38;5;28mtuple\u001B[39m) \u001B[38;5;129;01mor\u001B[39;00m \u001B[38;5;129;01mnot\u001B[39;00m is_list_like(key)\n",
      "File \u001B[0;32m/opt/homebrew/Caskroom/miniconda/base/envs/walmart/lib/python3.11/site-packages/pandas/core/frame.py:3946\u001B[0m, in \u001B[0;36mDataFrame._getitem_bool_array\u001B[0;34m(self, key)\u001B[0m\n\u001B[1;32m   3943\u001B[0m     \u001B[38;5;28;01mreturn\u001B[39;00m \u001B[38;5;28mself\u001B[39m\u001B[38;5;241m.\u001B[39mcopy(deep\u001B[38;5;241m=\u001B[39m\u001B[38;5;28;01mNone\u001B[39;00m)\n\u001B[1;32m   3945\u001B[0m indexer \u001B[38;5;241m=\u001B[39m key\u001B[38;5;241m.\u001B[39mnonzero()[\u001B[38;5;241m0\u001B[39m]\n\u001B[0;32m-> 3946\u001B[0m \u001B[38;5;28;01mreturn\u001B[39;00m \u001B[38;5;28mself\u001B[39m\u001B[38;5;241m.\u001B[39m_take_with_is_copy(indexer, axis\u001B[38;5;241m=\u001B[39m\u001B[38;5;241m0\u001B[39m)\n",
      "File \u001B[0;32m/opt/homebrew/Caskroom/miniconda/base/envs/walmart/lib/python3.11/site-packages/pandas/core/generic.py:4088\u001B[0m, in \u001B[0;36mNDFrame._take_with_is_copy\u001B[0;34m(self, indices, axis)\u001B[0m\n\u001B[1;32m   4077\u001B[0m \u001B[38;5;129m@final\u001B[39m\n\u001B[1;32m   4078\u001B[0m \u001B[38;5;28;01mdef\u001B[39;00m \u001B[38;5;21m_take_with_is_copy\u001B[39m(\u001B[38;5;28mself\u001B[39m, indices, axis: Axis \u001B[38;5;241m=\u001B[39m \u001B[38;5;241m0\u001B[39m) \u001B[38;5;241m-\u001B[39m\u001B[38;5;241m>\u001B[39m Self:\n\u001B[1;32m   4079\u001B[0m \u001B[38;5;250m    \u001B[39m\u001B[38;5;124;03m\"\"\"\u001B[39;00m\n\u001B[1;32m   4080\u001B[0m \u001B[38;5;124;03m    Internal version of the `take` method that sets the `_is_copy`\u001B[39;00m\n\u001B[1;32m   4081\u001B[0m \u001B[38;5;124;03m    attribute to keep track of the parent dataframe (using in indexing\u001B[39;00m\n\u001B[0;32m   (...)\u001B[0m\n\u001B[1;32m   4086\u001B[0m \u001B[38;5;124;03m    See the docstring of `take` for full explanation of the parameters.\u001B[39;00m\n\u001B[1;32m   4087\u001B[0m \u001B[38;5;124;03m    \"\"\"\u001B[39;00m\n\u001B[0;32m-> 4088\u001B[0m     result \u001B[38;5;241m=\u001B[39m \u001B[38;5;28mself\u001B[39m\u001B[38;5;241m.\u001B[39mtake(indices\u001B[38;5;241m=\u001B[39mindices, axis\u001B[38;5;241m=\u001B[39maxis)\n\u001B[1;32m   4089\u001B[0m     \u001B[38;5;66;03m# Maybe set copy if we didn't actually change the index.\u001B[39;00m\n\u001B[1;32m   4090\u001B[0m     \u001B[38;5;28;01mif\u001B[39;00m \u001B[38;5;28mself\u001B[39m\u001B[38;5;241m.\u001B[39mndim \u001B[38;5;241m==\u001B[39m \u001B[38;5;241m2\u001B[39m \u001B[38;5;129;01mand\u001B[39;00m \u001B[38;5;129;01mnot\u001B[39;00m result\u001B[38;5;241m.\u001B[39m_get_axis(axis)\u001B[38;5;241m.\u001B[39mequals(\u001B[38;5;28mself\u001B[39m\u001B[38;5;241m.\u001B[39m_get_axis(axis)):\n",
      "File \u001B[0;32m/opt/homebrew/Caskroom/miniconda/base/envs/walmart/lib/python3.11/site-packages/pandas/core/generic.py:4068\u001B[0m, in \u001B[0;36mNDFrame.take\u001B[0;34m(self, indices, axis, **kwargs)\u001B[0m\n\u001B[1;32m   4063\u001B[0m     \u001B[38;5;66;03m# We can get here with a slice via DataFrame.__getitem__\u001B[39;00m\n\u001B[1;32m   4064\u001B[0m     indices \u001B[38;5;241m=\u001B[39m np\u001B[38;5;241m.\u001B[39marange(\n\u001B[1;32m   4065\u001B[0m         indices\u001B[38;5;241m.\u001B[39mstart, indices\u001B[38;5;241m.\u001B[39mstop, indices\u001B[38;5;241m.\u001B[39mstep, dtype\u001B[38;5;241m=\u001B[39mnp\u001B[38;5;241m.\u001B[39mintp\n\u001B[1;32m   4066\u001B[0m     )\n\u001B[0;32m-> 4068\u001B[0m new_data \u001B[38;5;241m=\u001B[39m \u001B[38;5;28mself\u001B[39m\u001B[38;5;241m.\u001B[39m_mgr\u001B[38;5;241m.\u001B[39mtake(\n\u001B[1;32m   4069\u001B[0m     indices,\n\u001B[1;32m   4070\u001B[0m     axis\u001B[38;5;241m=\u001B[39m\u001B[38;5;28mself\u001B[39m\u001B[38;5;241m.\u001B[39m_get_block_manager_axis(axis),\n\u001B[1;32m   4071\u001B[0m     verify\u001B[38;5;241m=\u001B[39m\u001B[38;5;28;01mTrue\u001B[39;00m,\n\u001B[1;32m   4072\u001B[0m )\n\u001B[1;32m   4073\u001B[0m \u001B[38;5;28;01mreturn\u001B[39;00m \u001B[38;5;28mself\u001B[39m\u001B[38;5;241m.\u001B[39m_constructor_from_mgr(new_data, axes\u001B[38;5;241m=\u001B[39mnew_data\u001B[38;5;241m.\u001B[39maxes)\u001B[38;5;241m.\u001B[39m__finalize__(\n\u001B[1;32m   4074\u001B[0m     \u001B[38;5;28mself\u001B[39m, method\u001B[38;5;241m=\u001B[39m\u001B[38;5;124m\"\u001B[39m\u001B[38;5;124mtake\u001B[39m\u001B[38;5;124m\"\u001B[39m\n\u001B[1;32m   4075\u001B[0m )\n",
      "File \u001B[0;32m/opt/homebrew/Caskroom/miniconda/base/envs/walmart/lib/python3.11/site-packages/pandas/core/internals/managers.py:876\u001B[0m, in \u001B[0;36mBaseBlockManager.take\u001B[0;34m(self, indexer, axis, verify)\u001B[0m\n\u001B[1;32m    873\u001B[0m n \u001B[38;5;241m=\u001B[39m \u001B[38;5;28mself\u001B[39m\u001B[38;5;241m.\u001B[39mshape[axis]\n\u001B[1;32m    874\u001B[0m indexer \u001B[38;5;241m=\u001B[39m maybe_convert_indices(indexer, n, verify\u001B[38;5;241m=\u001B[39mverify)\n\u001B[0;32m--> 876\u001B[0m new_labels \u001B[38;5;241m=\u001B[39m \u001B[38;5;28mself\u001B[39m\u001B[38;5;241m.\u001B[39maxes[axis]\u001B[38;5;241m.\u001B[39mtake(indexer)\n\u001B[1;32m    877\u001B[0m \u001B[38;5;28;01mreturn\u001B[39;00m \u001B[38;5;28mself\u001B[39m\u001B[38;5;241m.\u001B[39mreindex_indexer(\n\u001B[1;32m    878\u001B[0m     new_axis\u001B[38;5;241m=\u001B[39mnew_labels,\n\u001B[1;32m    879\u001B[0m     indexer\u001B[38;5;241m=\u001B[39mindexer,\n\u001B[0;32m   (...)\u001B[0m\n\u001B[1;32m    882\u001B[0m     copy\u001B[38;5;241m=\u001B[39m\u001B[38;5;28;01mNone\u001B[39;00m,\n\u001B[1;32m    883\u001B[0m )\n",
      "File \u001B[0;32m/opt/homebrew/Caskroom/miniconda/base/envs/walmart/lib/python3.11/site-packages/pandas/core/indexes/range.py:1145\u001B[0m, in \u001B[0;36mRangeIndex.take\u001B[0;34m(self, indices, axis, allow_fill, fill_value, **kwargs)\u001B[0m\n\u001B[1;32m   1143\u001B[0m     \u001B[38;5;28;01mif\u001B[39;00m \u001B[38;5;28mself\u001B[39m\u001B[38;5;241m.\u001B[39mstep \u001B[38;5;241m!=\u001B[39m \u001B[38;5;241m1\u001B[39m:\n\u001B[1;32m   1144\u001B[0m         taken \u001B[38;5;241m*\u001B[39m\u001B[38;5;241m=\u001B[39m \u001B[38;5;28mself\u001B[39m\u001B[38;5;241m.\u001B[39mstep\n\u001B[0;32m-> 1145\u001B[0m     \u001B[38;5;28;01mif\u001B[39;00m \u001B[38;5;28mself\u001B[39m\u001B[38;5;241m.\u001B[39mstart \u001B[38;5;241m!=\u001B[39m \u001B[38;5;241m0\u001B[39m:\n\u001B[1;32m   1146\u001B[0m         taken \u001B[38;5;241m+\u001B[39m\u001B[38;5;241m=\u001B[39m \u001B[38;5;28mself\u001B[39m\u001B[38;5;241m.\u001B[39mstart\n\u001B[1;32m   1148\u001B[0m \u001B[38;5;66;03m# _constructor so RangeIndex-> Index with an int64 dtype\u001B[39;00m\n",
      "File \u001B[0;32m/opt/homebrew/Caskroom/miniconda/base/envs/walmart/lib/python3.11/site-packages/pandas/core/indexes/range.py:281\u001B[0m, in \u001B[0;36mRangeIndex.start\u001B[0;34m(self)\u001B[0m\n\u001B[1;32m    277\u001B[0m     \u001B[38;5;28;01mreturn\u001B[39;00m header \u001B[38;5;241m+\u001B[39m [\u001B[38;5;124mf\u001B[39m\u001B[38;5;124m\"\u001B[39m\u001B[38;5;132;01m{\u001B[39;00mx\u001B[38;5;132;01m:\u001B[39;00m\u001B[38;5;124m<\u001B[39m\u001B[38;5;132;01m{\u001B[39;00mmax_length\u001B[38;5;132;01m}\u001B[39;00m\u001B[38;5;132;01m}\u001B[39;00m\u001B[38;5;124m\"\u001B[39m \u001B[38;5;28;01mfor\u001B[39;00m x \u001B[38;5;129;01min\u001B[39;00m \u001B[38;5;28mself\u001B[39m\u001B[38;5;241m.\u001B[39m_range]\n\u001B[1;32m    279\u001B[0m \u001B[38;5;66;03m# --------------------------------------------------------------------\u001B[39;00m\n\u001B[0;32m--> 281\u001B[0m \u001B[38;5;129m@property\u001B[39m\n\u001B[1;32m    282\u001B[0m \u001B[38;5;28;01mdef\u001B[39;00m \u001B[38;5;21mstart\u001B[39m(\u001B[38;5;28mself\u001B[39m) \u001B[38;5;241m-\u001B[39m\u001B[38;5;241m>\u001B[39m \u001B[38;5;28mint\u001B[39m:\n\u001B[1;32m    283\u001B[0m \u001B[38;5;250m    \u001B[39m\u001B[38;5;124;03m\"\"\"\u001B[39;00m\n\u001B[1;32m    284\u001B[0m \u001B[38;5;124;03m    The value of the `start` parameter (``0`` if this was not supplied).\u001B[39;00m\n\u001B[1;32m    285\u001B[0m \n\u001B[0;32m   (...)\u001B[0m\n\u001B[1;32m    294\u001B[0m \u001B[38;5;124;03m    2\u001B[39;00m\n\u001B[1;32m    295\u001B[0m \u001B[38;5;124;03m    \"\"\"\u001B[39;00m\n\u001B[1;32m    296\u001B[0m     \u001B[38;5;66;03m# GH 25710\u001B[39;00m\n",
      "\u001B[0;31mKeyboardInterrupt\u001B[0m: "
     ]
    }
   ],
   "source": [
    "import pandas as pd\n",
    "from geopy.distance import great_circle\n",
    "\n",
    "# Load your data\n",
    "walmart_geocoded = pd.read_csv('/Users/pintoza/Desktop/dev/data-science/walmart-proximity/data/processed/walmart_geocoded.csv')\n",
    "zips_geocoded = pd.read_csv('/Users/pintoza/Desktop/dev/data-science/walmart-proximity/data/processed/zips_geocoded.csv')\n",
    "distance_data = pd.read_csv('/Users/pintoza/Desktop/dev/data-science/walmart-proximity/data/processed/distance.csv')\n",
    "\n",
    "# Define the model estimation function\n",
    "def estimate_driving_time(great_circle_distance, ruca):\n",
    "    coefficients = {\n",
    "        'great_circle_distance': 1.004209,\n",
    "        'ruca_Rural': 0.174183,\n",
    "        'ruca_Suburban': 1.177049,\n",
    "        'ruca_Urban': -1.351231,\n",
    "    }\n",
    "    intercept = 17.3068349820822\n",
    "    estimated_time = intercept + coefficients['great_circle_distance'] * great_circle_distance\n",
    "    if ruca == 'Rural':\n",
    "        estimated_time += coefficients['ruca_Rural']\n",
    "    elif ruca == 'Suburban':\n",
    "        estimated_time += coefficients['ruca_Suburban']\n",
    "    elif ruca == 'Urban':\n",
    "        estimated_time += coefficients['ruca_Urban']\n",
    "    return estimated_time\n",
    "\n",
    "# Prepare a CSV file to store the results with headers\n",
    "output_file = '/Users/pintoza/Desktop/dev/data-science/walmart-proximity/data/processed/time.csv'\n",
    "with open(output_file, 'w') as f:\n",
    "    f.write('zip,15_min,30_min,45_min,60_min\\n')  \n",
    "\n",
    "# Loop through each ZIP code in distance.csv\n",
    "for index, row in distance_data.iterrows():\n",
    "    zip_code = row['zip']\n",
    "    if pd.isna(row['nearby_walmarts']):\n",
    "        continue  # Skip ZIP codes with no nearby Walmarts\n",
    "\n",
    "    nearby_stores = [store.strip() for store in str(row['nearby_walmarts']).split(',')]\n",
    "    time_counts = {'15_min': 0, '30_min': 0, '45_min': 0, '60_min': 0}\n",
    "\n",
    "    for store_number in nearby_stores:\n",
    "        store_number = int(store_number)\n",
    "        if store_number in walmart_geocoded['Store #'].values:\n",
    "            store_coords = walmart_geocoded[walmart_geocoded['Store #'] == store_number][['latitude', 'longitude']].iloc[0]\n",
    "            zip_coords = zips_geocoded[zips_geocoded['zip'] == zip_code][['latitude', 'longitude', 'ruca']].iloc[0]\n",
    "            distance = great_circle((zip_coords['latitude'], zip_coords['longitude']), (store_coords['latitude'], store_coords['longitude'])).miles\n",
    "            ruca = zip_coords['ruca']\n",
    "            estimated_time = estimate_driving_time(distance, ruca)\n",
    "\n",
    "            # Increment the appropriate time count\n",
    "            if estimated_time <= 15:\n",
    "                time_counts['15_min'] += 1\n",
    "                time_counts['30_min'] += 1\n",
    "                time_counts['45_min'] += 1\n",
    "                time_counts['60_min'] += 1\n",
    "            elif estimated_time <= 30:\n",
    "                time_counts['30_min'] += 1\n",
    "                time_counts['45_min'] += 1\n",
    "                time_counts['60_min'] += 1\n",
    "            elif estimated_time <= 45:\n",
    "                time_counts['45_min'] += 1\n",
    "                time_counts['60_min'] += 1\n",
    "            elif estimated_time <= 60:\n",
    "                time_counts['60_min'] += 1\n",
    "\n",
    "    # Append this ZIP code's counts to the CSV file\n",
    "    with open(output_file, 'a') as f:\n",
    "        line = f\"{zip_code},{time_counts['15_min']},{time_counts['30_min']},{time_counts['45_min']},{time_counts['60_min']}\\n\"\n",
    "        f.write(line)"
   ]
  },
  {
   "cell_type": "code",
   "execution_count": null,
   "outputs": [],
   "source": [],
   "metadata": {
    "collapsed": false
   },
   "id": "60737781311ac00d"
  }
 ],
 "metadata": {
  "kernelspec": {
   "display_name": "Python 3",
   "language": "python",
   "name": "python3"
  },
  "language_info": {
   "codemirror_mode": {
    "name": "ipython",
    "version": 2
   },
   "file_extension": ".py",
   "mimetype": "text/x-python",
   "name": "python",
   "nbconvert_exporter": "python",
   "pygments_lexer": "ipython2",
   "version": "2.7.6"
  }
 },
 "nbformat": 4,
 "nbformat_minor": 5
}
