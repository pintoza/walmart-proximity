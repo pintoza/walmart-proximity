{
 "cells": [
  {
   "cell_type": "code",
   "execution_count": 54,
   "outputs": [],
   "source": [
    "import os\n",
    "import pandas as pd\n",
    "import requests\n",
    "from dotenv import load_dotenv\n",
    "from urllib.parse import urlencode\n",
    "\n",
    "# Load environment variables\n",
    "load_dotenv()\n",
    "\n",
    "# API key from .env file\n",
    "API_KEY = os.getenv('DISTANCE_MATRIX_API_KEY')\n",
    "\n",
    "# Load the geocoded data\n",
    "walmart_df = pd.read_csv('/Users/pintoza/Desktop/dev/data-science/walmart-proximity/data/interim/walmart_sample_geocoded.csv')\n",
    "zips_df = pd.read_csv('/Users/pintoza/Desktop/dev/data-science/walmart-proximity/data/interim/zips_sample_geocoded.csv')\n",
    "\n",
    "# Extract the state from the Walmart addresses and add it as a new column\n",
    "walmart_df['State'] = walmart_df['Address'].apply(lambda x: x.split(',')[-1].strip())\n",
    "\n",
    "# Output Files (CSV)\n",
    "output_file = '/Users/pintoza/Desktop/dev/data-science/walmart-proximity/data/interim/distance_sample.csv'"
   ],
   "metadata": {
    "collapsed": false,
    "ExecuteTime": {
     "end_time": "2024-01-06T17:14:33.954644Z",
     "start_time": "2024-01-06T17:14:33.928544Z"
    }
   },
   "id": "ac9a2648050fb475"
  },
  {
   "cell_type": "code",
   "execution_count": 55,
   "outputs": [
    {
     "data": {
      "text/plain": "                                             Address          Designation  \\\n0    1151 Stonecrest Blvd., Tega Cay, South Carolina  Walmart Supercenter   \n1          2150 E Tangerine Rd., Oro Valley, Arizona  Walmart Supercenter   \n2                    3200 Lusk Dr., Neosho, Missouri  Walmart Supercenter   \n3             10300 E Highway 350, Raytown, Missouri  Walmart Supercenter   \n4                 4517 N Midland Dr., Midland, Texas  Walmart Supercenter   \n..                                               ...                  ...   \n375        5219 Highway 51 N, Senatobia, Mississippi  Walmart Supercenter   \n376                 2550 S Kolb Rd., Tucson, Arizona  Neighborhood Market   \n377             2121 N Collins St., Arlington, Texas  Neighborhood Market   \n378            2586 N Slappey Blvd., Albany, Georgia  Neighborhood Market   \n379                 1341 Highway 287 N, Bowie, Texas  Walmart Supercenter   \n\n     Store #         Open Date   latitude   longitude           State  \n0       3733     March 7, 2008  35.046191  -80.994007  South Carolina  \n1       3379  October 29, 2008  32.426144 -110.939906         Arizona  \n2         17       May 1, 1969  36.841710  -94.394270        Missouri  \n3       1094   October 1, 1987  38.984768  -94.460438        Missouri  \n4        608     June 29, 1984  32.029424 -102.145934           Texas  \n..       ...               ...        ...         ...             ...  \n375      155    August 1, 1977  34.575831  -89.968427     Mississippi  \n376     3049    April 19, 2013  32.192946 -110.842481         Arizona  \n377     5613  January 16, 2013  32.768159  -97.095910           Texas  \n378     4517  January 20, 2016  31.613019  -84.174321         Georgia  \n379      271    August 7, 1979  33.540516  -97.837432           Texas  \n\n[380 rows x 7 columns]",
      "text/html": "<div>\n<style scoped>\n    .dataframe tbody tr th:only-of-type {\n        vertical-align: middle;\n    }\n\n    .dataframe tbody tr th {\n        vertical-align: top;\n    }\n\n    .dataframe thead th {\n        text-align: right;\n    }\n</style>\n<table border=\"1\" class=\"dataframe\">\n  <thead>\n    <tr style=\"text-align: right;\">\n      <th></th>\n      <th>Address</th>\n      <th>Designation</th>\n      <th>Store #</th>\n      <th>Open Date</th>\n      <th>latitude</th>\n      <th>longitude</th>\n      <th>State</th>\n    </tr>\n  </thead>\n  <tbody>\n    <tr>\n      <th>0</th>\n      <td>1151 Stonecrest Blvd., Tega Cay, South Carolina</td>\n      <td>Walmart Supercenter</td>\n      <td>3733</td>\n      <td>March 7, 2008</td>\n      <td>35.046191</td>\n      <td>-80.994007</td>\n      <td>South Carolina</td>\n    </tr>\n    <tr>\n      <th>1</th>\n      <td>2150 E Tangerine Rd., Oro Valley, Arizona</td>\n      <td>Walmart Supercenter</td>\n      <td>3379</td>\n      <td>October 29, 2008</td>\n      <td>32.426144</td>\n      <td>-110.939906</td>\n      <td>Arizona</td>\n    </tr>\n    <tr>\n      <th>2</th>\n      <td>3200 Lusk Dr., Neosho, Missouri</td>\n      <td>Walmart Supercenter</td>\n      <td>17</td>\n      <td>May 1, 1969</td>\n      <td>36.841710</td>\n      <td>-94.394270</td>\n      <td>Missouri</td>\n    </tr>\n    <tr>\n      <th>3</th>\n      <td>10300 E Highway 350, Raytown, Missouri</td>\n      <td>Walmart Supercenter</td>\n      <td>1094</td>\n      <td>October 1, 1987</td>\n      <td>38.984768</td>\n      <td>-94.460438</td>\n      <td>Missouri</td>\n    </tr>\n    <tr>\n      <th>4</th>\n      <td>4517 N Midland Dr., Midland, Texas</td>\n      <td>Walmart Supercenter</td>\n      <td>608</td>\n      <td>June 29, 1984</td>\n      <td>32.029424</td>\n      <td>-102.145934</td>\n      <td>Texas</td>\n    </tr>\n    <tr>\n      <th>...</th>\n      <td>...</td>\n      <td>...</td>\n      <td>...</td>\n      <td>...</td>\n      <td>...</td>\n      <td>...</td>\n      <td>...</td>\n    </tr>\n    <tr>\n      <th>375</th>\n      <td>5219 Highway 51 N, Senatobia, Mississippi</td>\n      <td>Walmart Supercenter</td>\n      <td>155</td>\n      <td>August 1, 1977</td>\n      <td>34.575831</td>\n      <td>-89.968427</td>\n      <td>Mississippi</td>\n    </tr>\n    <tr>\n      <th>376</th>\n      <td>2550 S Kolb Rd., Tucson, Arizona</td>\n      <td>Neighborhood Market</td>\n      <td>3049</td>\n      <td>April 19, 2013</td>\n      <td>32.192946</td>\n      <td>-110.842481</td>\n      <td>Arizona</td>\n    </tr>\n    <tr>\n      <th>377</th>\n      <td>2121 N Collins St., Arlington, Texas</td>\n      <td>Neighborhood Market</td>\n      <td>5613</td>\n      <td>January 16, 2013</td>\n      <td>32.768159</td>\n      <td>-97.095910</td>\n      <td>Texas</td>\n    </tr>\n    <tr>\n      <th>378</th>\n      <td>2586 N Slappey Blvd., Albany, Georgia</td>\n      <td>Neighborhood Market</td>\n      <td>4517</td>\n      <td>January 20, 2016</td>\n      <td>31.613019</td>\n      <td>-84.174321</td>\n      <td>Georgia</td>\n    </tr>\n    <tr>\n      <th>379</th>\n      <td>1341 Highway 287 N, Bowie, Texas</td>\n      <td>Walmart Supercenter</td>\n      <td>271</td>\n      <td>August 7, 1979</td>\n      <td>33.540516</td>\n      <td>-97.837432</td>\n      <td>Texas</td>\n    </tr>\n  </tbody>\n</table>\n<p>380 rows × 7 columns</p>\n</div>"
     },
     "execution_count": 55,
     "metadata": {},
     "output_type": "execute_result"
    }
   ],
   "source": [
    "walmart_df"
   ],
   "metadata": {
    "collapsed": false,
    "ExecuteTime": {
     "end_time": "2024-01-06T17:14:35.025524Z",
     "start_time": "2024-01-06T17:14:35.021096Z"
    }
   },
   "id": "8b46f341b1b8abeb"
  },
  {
   "cell_type": "code",
   "execution_count": 56,
   "outputs": [
    {
     "data": {
      "text/plain": "       zip      ruca           city state_name population      county  \\\n0    35575     Rural           Lynn    Alabama      1,020     Winston   \n1    36866  Suburban      Notasulga    Alabama      4,145       Macon   \n2    36026  Suburban       Equality    Alabama      1,239       Coosa   \n3    35972  Suburban        Gallant    Alabama      1,036      Etowah   \n4    35987  Suburban         Steele    Alabama      2,483   St. Clair   \n..     ...       ...            ...        ...        ...         ...   \n351  53955  Suburban       Poynette  Wisconsin      5,662    Columbia   \n352  54603     Urban      La Crosse  Wisconsin     14,198   La Crosse   \n353  53127     Urban  Genesee Depot  Wisconsin        108    Waukesha   \n354  82932     Rural         Farson    Wyoming        705  Sweetwater   \n355  82327  Suburban          Hanna    Wyoming        794      Carbon   \n\n    median_household_income  stratum_size  sample_proportion  \\\n0                   $43,289            82           0.002438   \n1                   $52,123           365           0.010852   \n2                   $89,375           365           0.010852   \n3                       NaN           365           0.010852   \n4                   $62,703           365           0.010852   \n..                      ...           ...                ...   \n351                 $84,151           360           0.010704   \n352                 $48,580           198           0.005887   \n353                $132,950           198           0.005887   \n354                 $63,520            88           0.002616   \n355                 $51,196            62           0.001843   \n\n     stratum_sample_size   latitude   longitude  \n0                      1  34.049571  -87.552646  \n1                      4  32.536635  -85.697354  \n2                      4  32.775220  -86.121600  \n3                      4  34.002330  -86.224672  \n4                      4  33.916778  -86.243593  \n..                   ...        ...         ...  \n351                    4  43.433273  -89.394518  \n352                    2  43.853763  -91.246238  \n353                    2  42.960098  -88.374455  \n354                    1  42.083362 -109.418358  \n355                    1  41.869647 -106.552216  \n\n[356 rows x 12 columns]",
      "text/html": "<div>\n<style scoped>\n    .dataframe tbody tr th:only-of-type {\n        vertical-align: middle;\n    }\n\n    .dataframe tbody tr th {\n        vertical-align: top;\n    }\n\n    .dataframe thead th {\n        text-align: right;\n    }\n</style>\n<table border=\"1\" class=\"dataframe\">\n  <thead>\n    <tr style=\"text-align: right;\">\n      <th></th>\n      <th>zip</th>\n      <th>ruca</th>\n      <th>city</th>\n      <th>state_name</th>\n      <th>population</th>\n      <th>county</th>\n      <th>median_household_income</th>\n      <th>stratum_size</th>\n      <th>sample_proportion</th>\n      <th>stratum_sample_size</th>\n      <th>latitude</th>\n      <th>longitude</th>\n    </tr>\n  </thead>\n  <tbody>\n    <tr>\n      <th>0</th>\n      <td>35575</td>\n      <td>Rural</td>\n      <td>Lynn</td>\n      <td>Alabama</td>\n      <td>1,020</td>\n      <td>Winston</td>\n      <td>$43,289</td>\n      <td>82</td>\n      <td>0.002438</td>\n      <td>1</td>\n      <td>34.049571</td>\n      <td>-87.552646</td>\n    </tr>\n    <tr>\n      <th>1</th>\n      <td>36866</td>\n      <td>Suburban</td>\n      <td>Notasulga</td>\n      <td>Alabama</td>\n      <td>4,145</td>\n      <td>Macon</td>\n      <td>$52,123</td>\n      <td>365</td>\n      <td>0.010852</td>\n      <td>4</td>\n      <td>32.536635</td>\n      <td>-85.697354</td>\n    </tr>\n    <tr>\n      <th>2</th>\n      <td>36026</td>\n      <td>Suburban</td>\n      <td>Equality</td>\n      <td>Alabama</td>\n      <td>1,239</td>\n      <td>Coosa</td>\n      <td>$89,375</td>\n      <td>365</td>\n      <td>0.010852</td>\n      <td>4</td>\n      <td>32.775220</td>\n      <td>-86.121600</td>\n    </tr>\n    <tr>\n      <th>3</th>\n      <td>35972</td>\n      <td>Suburban</td>\n      <td>Gallant</td>\n      <td>Alabama</td>\n      <td>1,036</td>\n      <td>Etowah</td>\n      <td>NaN</td>\n      <td>365</td>\n      <td>0.010852</td>\n      <td>4</td>\n      <td>34.002330</td>\n      <td>-86.224672</td>\n    </tr>\n    <tr>\n      <th>4</th>\n      <td>35987</td>\n      <td>Suburban</td>\n      <td>Steele</td>\n      <td>Alabama</td>\n      <td>2,483</td>\n      <td>St. Clair</td>\n      <td>$62,703</td>\n      <td>365</td>\n      <td>0.010852</td>\n      <td>4</td>\n      <td>33.916778</td>\n      <td>-86.243593</td>\n    </tr>\n    <tr>\n      <th>...</th>\n      <td>...</td>\n      <td>...</td>\n      <td>...</td>\n      <td>...</td>\n      <td>...</td>\n      <td>...</td>\n      <td>...</td>\n      <td>...</td>\n      <td>...</td>\n      <td>...</td>\n      <td>...</td>\n      <td>...</td>\n    </tr>\n    <tr>\n      <th>351</th>\n      <td>53955</td>\n      <td>Suburban</td>\n      <td>Poynette</td>\n      <td>Wisconsin</td>\n      <td>5,662</td>\n      <td>Columbia</td>\n      <td>$84,151</td>\n      <td>360</td>\n      <td>0.010704</td>\n      <td>4</td>\n      <td>43.433273</td>\n      <td>-89.394518</td>\n    </tr>\n    <tr>\n      <th>352</th>\n      <td>54603</td>\n      <td>Urban</td>\n      <td>La Crosse</td>\n      <td>Wisconsin</td>\n      <td>14,198</td>\n      <td>La Crosse</td>\n      <td>$48,580</td>\n      <td>198</td>\n      <td>0.005887</td>\n      <td>2</td>\n      <td>43.853763</td>\n      <td>-91.246238</td>\n    </tr>\n    <tr>\n      <th>353</th>\n      <td>53127</td>\n      <td>Urban</td>\n      <td>Genesee Depot</td>\n      <td>Wisconsin</td>\n      <td>108</td>\n      <td>Waukesha</td>\n      <td>$132,950</td>\n      <td>198</td>\n      <td>0.005887</td>\n      <td>2</td>\n      <td>42.960098</td>\n      <td>-88.374455</td>\n    </tr>\n    <tr>\n      <th>354</th>\n      <td>82932</td>\n      <td>Rural</td>\n      <td>Farson</td>\n      <td>Wyoming</td>\n      <td>705</td>\n      <td>Sweetwater</td>\n      <td>$63,520</td>\n      <td>88</td>\n      <td>0.002616</td>\n      <td>1</td>\n      <td>42.083362</td>\n      <td>-109.418358</td>\n    </tr>\n    <tr>\n      <th>355</th>\n      <td>82327</td>\n      <td>Suburban</td>\n      <td>Hanna</td>\n      <td>Wyoming</td>\n      <td>794</td>\n      <td>Carbon</td>\n      <td>$51,196</td>\n      <td>62</td>\n      <td>0.001843</td>\n      <td>1</td>\n      <td>41.869647</td>\n      <td>-106.552216</td>\n    </tr>\n  </tbody>\n</table>\n<p>356 rows × 12 columns</p>\n</div>"
     },
     "execution_count": 56,
     "metadata": {},
     "output_type": "execute_result"
    }
   ],
   "source": [
    "zips_df"
   ],
   "metadata": {
    "collapsed": false,
    "ExecuteTime": {
     "end_time": "2024-01-06T17:14:38.026420Z",
     "start_time": "2024-01-06T17:14:38.016598Z"
    }
   },
   "id": "d5458bf1efede496"
  },
  {
   "cell_type": "code",
   "execution_count": 57,
   "outputs": [
    {
     "name": "stdout",
     "output_type": "stream",
     "text": [
      "Distance data appended to CSV successfully.\n"
     ]
    }
   ],
   "source": [
    "def fetch_and_append_distances(state, output_file):\n",
    "    # Filter dataframes for the state\n",
    "    state_walmart_df = walmart_df[walmart_df['State'] == state]\n",
    "    state_zips_df = zips_df[zips_df['state_name'] == state]\n",
    "\n",
    "    for _, zip_row in state_zips_df.iterrows():\n",
    "        origin = f\"{zip_row.latitude},{zip_row.longitude}\"\n",
    "        for _, walmart_row in state_walmart_df.iterrows():\n",
    "            destination = f\"{walmart_row.latitude},{walmart_row.longitude}\"\n",
    "            \n",
    "            # API request\n",
    "            url = f\"https://api.distancematrix.ai/maps/api/distancematrix/json?origins={origin}&destinations={destination}&key={API_KEY}\"\n",
    "            response = requests.get(url)\n",
    "            \n",
    "            # Initialize the dictionary that will hold our row data\n",
    "            row_data = {\n",
    "                'origin': origin,\n",
    "                'destination': destination,\n",
    "                'distance_in_time': 'N/A'  # Default value in case of an error\n",
    "            }\n",
    "\n",
    "            if response.status_code == 200:\n",
    "                data = response.json()\n",
    "                if data['status'] == 'OK':\n",
    "                    distance_info = data['rows'][0]['elements'][0]\n",
    "                    if distance_info['status'] == 'OK':\n",
    "                        row_data['distance_in_time'] = distance_info['duration']['text']\n",
    "                        \n",
    "            # Append the result to the CSV file\n",
    "            with open(output_file, 'a') as f:\n",
    "                pd.DataFrame([row_data]).to_csv(f, header=False, index=False)\n",
    "\n",
    "# Iterate through each state and append results to the CSV\n",
    "for state in zips_df['state_name'].unique():\n",
    "    fetch_and_append_distances(state, output_file)\n",
    "\n",
    "print(\"Distance data appended to CSV successfully.\")"
   ],
   "metadata": {
    "collapsed": false,
    "ExecuteTime": {
     "end_time": "2024-01-06T18:33:41.439278Z",
     "start_time": "2024-01-06T17:15:36.444512Z"
    }
   },
   "id": "18a0b25dd1f737e4"
  },
  {
   "cell_type": "code",
   "execution_count": null,
   "outputs": [],
   "source": [],
   "metadata": {
    "collapsed": false
   },
   "id": "92f081f98adfa6a2"
  }
 ],
 "metadata": {
  "kernelspec": {
   "display_name": "Python 3",
   "language": "python",
   "name": "python3"
  },
  "language_info": {
   "codemirror_mode": {
    "name": "ipython",
    "version": 2
   },
   "file_extension": ".py",
   "mimetype": "text/x-python",
   "name": "python",
   "nbconvert_exporter": "python",
   "pygments_lexer": "ipython2",
   "version": "2.7.6"
  }
 },
 "nbformat": 4,
 "nbformat_minor": 5
}
