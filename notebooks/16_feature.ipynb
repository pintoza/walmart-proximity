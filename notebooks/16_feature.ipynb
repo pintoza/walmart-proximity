{
 "cells": [
  {
   "cell_type": "code",
   "execution_count": 2,
   "id": "initial_id",
   "metadata": {
    "collapsed": true,
    "ExecuteTime": {
     "end_time": "2024-01-06T23:04:07.642010Z",
     "start_time": "2024-01-06T22:02:42.027169Z"
    }
   },
   "outputs": [
    {
     "name": "stdout",
     "output_type": "stream",
     "text": [
      "Successfully geocoded chunk 1\n",
      "Successfully geocoded chunk 1\n",
      "Successfully geocoded chunk 2\n",
      "Successfully geocoded chunk 3\n",
      "Successfully geocoded chunk 4\n"
     ]
    }
   ],
   "source": [
    "import pandas as pd\n",
    "from geocodio import GeocodioClient\n",
    "from dotenv import load_dotenv\n",
    "import os\n",
    "import time\n",
    "\n",
    "# Load API key from .env file\n",
    "load_dotenv()\n",
    "api_key = os.getenv(\"GEOCODIO_API_KEY\")\n",
    "\n",
    "# Initialize the Geocodio client\n",
    "client = GeocodioClient(api_key)\n",
    "\n",
    "# Function to chunk the address list\n",
    "def chunked(iterable, size):\n",
    "    for i in range(0, len(iterable), size):\n",
    "        yield iterable[i:i + size]\n",
    "\n",
    "# Function to perform batch geocoding and handle exceptions\n",
    "def batch_geocode_addresses(addresses, chunk_size=10000):\n",
    "    all_results = []\n",
    "    for i, chunk in enumerate(chunked(addresses, chunk_size)):\n",
    "        try:\n",
    "            # Geocode the chunk of addresses\n",
    "            geocoded_chunk = client.batch_geocode(chunk)\n",
    "            all_results.extend(geocoded_chunk)  # Concatenate results from each chunk\n",
    "            print(f\"Successfully geocoded chunk {i+1}\")\n",
    "            time.sleep(610)  # Delay to avoid hitting API rate limits\n",
    "        except Exception as e:\n",
    "            print(f\"Error during batch geocoding of chunk {i+1}: {e}\")\n",
    "    return all_results\n",
    "\n",
    "# Load addresses from CSV files\n",
    "walmart_df = pd.read_csv('/Users/pintoza/Desktop/dev/data-science/walmart-proximity/data/processed/walmart.csv')\n",
    "zips_df = pd.read_csv('/Users/pintoza/Desktop/dev/data-science/walmart-proximity/data/processed/zips.csv')\n",
    "\n",
    "# Extract addresses and ZIP codes as lists\n",
    "walmart_addresses = walmart_df['Address'].tolist()  # Assuming 'Address' is the column name\n",
    "zip_codes = zips_df['zip'].astype(str).tolist()  # Assuming 'zip' is the column name\n",
    "\n",
    "# Batch geocode\n",
    "walmart_geocoded = batch_geocode_addresses(walmart_addresses)\n",
    "zip_geocoded = batch_geocode_addresses(zip_codes)"
   ]
  },
  {
   "cell_type": "code",
   "execution_count": 3,
   "outputs": [],
   "source": [
    "# function to extract lat/lng from the geocoded data\n",
    "def extract_lat_lng(geocoded_data):\n",
    "    lat_lng_list = []\n",
    "    for item in geocoded_data:\n",
    "        if item['results']:  # Check if the results list is not empty\n",
    "            lat = item['results'][0]['location']['lat']\n",
    "            lng = item['results'][0]['location']['lng']\n",
    "            lat_lng_list.append((lat, lng))\n",
    "        else:\n",
    "            lat_lng_list.append((None, None))  # Append None values if no results\n",
    "    return lat_lng_list\n",
    "\n",
    "walmart_lat_lng = extract_lat_lng(walmart_geocoded)\n",
    "zip_lat_lng = extract_lat_lng(zip_geocoded)"
   ],
   "metadata": {
    "collapsed": false,
    "ExecuteTime": {
     "end_time": "2024-01-06T23:06:04.804421Z",
     "start_time": "2024-01-06T23:06:04.778064Z"
    }
   },
   "id": "245db29fb3c48382"
  },
  {
   "cell_type": "code",
   "execution_count": 4,
   "outputs": [],
   "source": [
    "# Add lat/lng to the Walmart dataframe\n",
    "walmart_df = pd.read_csv('/Users/pintoza/Desktop/dev/data-science/walmart-proximity/data/processed/walmart.csv')\n",
    "zip_df = pd.read_csv('/Users/pintoza/Desktop/dev/data-science/walmart-proximity/data/processed/zips.csv')\n",
    "\n",
    "# Assuming the length of walmart_lat_lng and zip_lat_lng matches the respective dataframes\n",
    "walmart_df[['latitude', 'longitude']] = pd.DataFrame(walmart_lat_lng, columns=['latitude', 'longitude'])\n",
    "zip_df[['latitude', 'longitude']] = pd.DataFrame(zip_lat_lng, columns=['latitude', 'longitude'])\n",
    "\n",
    "# Save the updated dataframes\n",
    "walmart_df.to_csv('/Users/pintoza/Desktop/dev/data-science/walmart-proximity/data/processed/walmart_geocoded.csv', index=False)\n",
    "zip_df.to_csv('/Users/pintoza/Desktop/dev/data-science/walmart-proximity/data/processed/zips_geocoded.csv', index=False)"
   ],
   "metadata": {
    "collapsed": false,
    "ExecuteTime": {
     "end_time": "2024-01-06T23:06:07.285414Z",
     "start_time": "2024-01-06T23:06:07.146344Z"
    }
   },
   "id": "ed64a8654c2daded"
  },
  {
   "cell_type": "code",
   "execution_count": null,
   "outputs": [],
   "source": [
    " "
   ],
   "metadata": {
    "collapsed": false
   },
   "id": "b885ebc98668ec82"
  }
 ],
 "metadata": {
  "kernelspec": {
   "display_name": "Python 3",
   "language": "python",
   "name": "python3"
  },
  "language_info": {
   "codemirror_mode": {
    "name": "ipython",
    "version": 2
   },
   "file_extension": ".py",
   "mimetype": "text/x-python",
   "name": "python",
   "nbconvert_exporter": "python",
   "pygments_lexer": "ipython2",
   "version": "2.7.6"
  }
 },
 "nbformat": 4,
 "nbformat_minor": 5
}
