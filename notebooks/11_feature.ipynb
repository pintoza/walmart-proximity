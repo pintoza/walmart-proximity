{
 "cells": [
  {
   "cell_type": "code",
   "execution_count": 3,
   "id": "initial_id",
   "metadata": {
    "collapsed": true,
    "ExecuteTime": {
     "end_time": "2024-01-02T02:04:54.634206Z",
     "start_time": "2024-01-02T02:04:54.085640Z"
    }
   },
   "outputs": [],
   "source": [
    "import pandas\n",
    "from scipy.stats import norm\n",
    "import math"
   ]
  },
  {
   "cell_type": "code",
   "execution_count": 4,
   "outputs": [],
   "source": [
    "walmart_df = pandas.read_csv('/Users/pintoza/Desktop/dev/data-science/walmart-proximity/data/processed/walmart.csv')\n",
    "zips_df = pandas.read_csv('/Users/pintoza/Desktop/dev/data-science/walmart-proximity/data/processed/zips.csv')"
   ],
   "metadata": {
    "collapsed": false,
    "ExecuteTime": {
     "end_time": "2024-01-02T02:04:56.572894Z",
     "start_time": "2024-01-02T02:04:56.529473Z"
    }
   },
   "id": "819f021e4e370149"
  },
  {
   "cell_type": "code",
   "execution_count": 5,
   "outputs": [
    {
     "data": {
      "text/plain": "380"
     },
     "execution_count": 5,
     "metadata": {},
     "output_type": "execute_result"
    }
   ],
   "source": [
    "def calculate_sample_size(df, confidence_interval, margin_of_error):\n",
    "    # Population size\n",
    "    N = len(df)\n",
    "    \n",
    "    # Z-score\n",
    "    z_score = norm.ppf((1 + confidence_interval) / 2)\n",
    "    \n",
    "    # proportion\n",
    "    p = 0.5\n",
    "    \n",
    "    # calculate sample size\n",
    "    numerator = (z_score**2) * p * (1 - p)\n",
    "    denominator = (margin_of_error**2) + ((z_score**2) * p * (1 - p) / N)\n",
    "    sample_size = numerator / denominator\n",
    "    \n",
    "    return math.ceil(sample_size)\n",
    "\n",
    "confidence_interval = 0.95\n",
    "margin_of_error = 0.05\n",
    "\n",
    "required_sample_size = calculate_sample_size(zips_df, confidence_interval, margin_of_error)\n",
    "required_sample_size"
   ],
   "metadata": {
    "collapsed": false,
    "ExecuteTime": {
     "end_time": "2024-01-02T02:07:07.291783Z",
     "start_time": "2024-01-02T02:07:07.284235Z"
    }
   },
   "id": "37f6f5ed70742d89"
  },
  {
   "cell_type": "code",
   "execution_count": 8,
   "outputs": [],
   "source": [
    "# Determine the proportionate sample size for each stratum\n",
    "total_zip_count = zips_df.shape[0]\n",
    "sample_size = 380  # Adjust based on your requirements\n",
    "zips_df['stratum_size'] = zips_df.groupby(['state_name', 'ruca'])['zip'].transform('count')\n",
    "zips_df['sample_proportion'] = zips_df['stratum_size'] / total_zip_count\n",
    "zips_df['stratum_sample_size'] = (zips_df['sample_proportion'] * sample_size).round().astype(int)\n",
    "\n",
    "# Stratified sampling of ZIP codes\n",
    "sampled_zips = zips_df.groupby(['state_name', 'ruca']).apply(lambda x: x.sample(n=x['stratum_sample_size'].iloc[0], random_state=1)).reset_index(drop=True)\n",
    "\n",
    "# Random sampling of Walmart stores\n",
    "sampled_walmarts = walmart_df.sample(n=sample_size, random_state=1)  # Adjust sample size as necessary\n",
    "\n",
    "# Export sampled data\n",
    "sampled_zips.to_csv('/Users/pintoza/Desktop/dev/data-science/walmart-proximity/data/interim/zips_sample.csv', index=False)\n",
    "sampled_walmarts.to_csv('/Users/pintoza/Desktop/dev/data-science/walmart-proximity/data/interim/walmart_sample.csv', index=False)"
   ],
   "metadata": {
    "collapsed": false,
    "ExecuteTime": {
     "end_time": "2024-01-02T02:14:13.601024Z",
     "start_time": "2024-01-02T02:14:13.536707Z"
    }
   },
   "id": "d6473db84b3824d7"
  },
  {
   "cell_type": "code",
   "execution_count": null,
   "outputs": [],
   "source": [],
   "metadata": {
    "collapsed": false
   },
   "id": "e5ffa53f281e7a10"
  }
 ],
 "metadata": {
  "kernelspec": {
   "display_name": "Python 3",
   "language": "python",
   "name": "python3"
  },
  "language_info": {
   "codemirror_mode": {
    "name": "ipython",
    "version": 2
   },
   "file_extension": ".py",
   "mimetype": "text/x-python",
   "name": "python",
   "nbconvert_exporter": "python",
   "pygments_lexer": "ipython2",
   "version": "2.7.6"
  }
 },
 "nbformat": 4,
 "nbformat_minor": 5
}
