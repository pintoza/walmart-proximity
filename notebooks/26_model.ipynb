{
 "cells": [
  {
   "cell_type": "code",
   "execution_count": 3,
   "id": "initial_id",
   "metadata": {
    "collapsed": true,
    "ExecuteTime": {
     "end_time": "2024-01-21T22:01:07.455102Z",
     "start_time": "2024-01-21T22:01:07.341801Z"
    }
   },
   "outputs": [],
   "source": [
    "import pandas as pd\n",
    "\n",
    "# Load the datasets\n",
    "zips_data = pd.read_csv('/Users/pintoza/Desktop/dev/data-science/walmart-proximity/data/processed/zips_geocoded.csv')\n",
    "predictions_data = pd.read_csv('/Users/pintoza/Desktop/dev/data-science/walmart-proximity/data/processed/final_population_predictions.csv')\n",
    "\n",
    "# Select required columns from zips_data\n",
    "zips_summary = zips_data[['zip', 'ruca', 'population', 'median_household_income']]\n",
    "\n",
    "# Aggregate within_10_miles count for each zip in predictions_data\n",
    "within_10_miles_count = predictions_data[predictions_data['within_10_miles'] == 1].groupby('origin')['within_10_miles'].count().reset_index()\n",
    "within_10_miles_count.columns = ['zip', 'within_10_miles_count']\n",
    "\n",
    "# Merge the summary data with the count data\n",
    "final_data = zips_summary.merge(within_10_miles_count, on='zip', how='left')\n",
    "\n",
    "# Replace NaN with 0 in within_10_miles_count column\n",
    "final_data['within_10_miles_count'] = final_data['within_10_miles_count'].fillna(0)\n",
    "\n",
    "# Save the final dataset\n",
    "final_data.to_csv('/Users/pintoza/Desktop/dev/data-science/walmart-proximity/data/finals/final_zips.csv', index=False)"
   ]
  },
  {
   "cell_type": "code",
   "outputs": [],
   "source": [],
   "metadata": {
    "collapsed": false
   },
   "id": "b84c616dc83e89f5"
  }
 ],
 "metadata": {
  "kernelspec": {
   "display_name": "Python 3",
   "language": "python",
   "name": "python3"
  },
  "language_info": {
   "codemirror_mode": {
    "name": "ipython",
    "version": 2
   },
   "file_extension": ".py",
   "mimetype": "text/x-python",
   "name": "python",
   "nbconvert_exporter": "python",
   "pygments_lexer": "ipython2",
   "version": "2.7.6"
  }
 },
 "nbformat": 4,
 "nbformat_minor": 5
}
