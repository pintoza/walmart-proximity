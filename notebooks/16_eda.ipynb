{
 "cells": [
  {
   "cell_type": "code",
   "execution_count": 2,
   "id": "initial_id",
   "metadata": {
    "collapsed": true,
    "ExecuteTime": {
     "end_time": "2024-01-08T04:27:45.901583Z",
     "start_time": "2024-01-08T03:39:09.338702Z"
    }
   },
   "outputs": [],
   "source": [
    "import pandas as pd\n",
    "from geopy.distance import great_circle\n",
    "\n",
    "# Load datasets\n",
    "walmart_geocoded = pd.read_csv('/Users/pintoza/Desktop/dev/data-science/walmart-proximity/data/processed/walmart_geocoded.csv')\n",
    "zips_geocoded = pd.read_csv('/Users/pintoza/Desktop/dev/data-science/walmart-proximity/data/processed/zips_geocoded.csv')\n",
    "distance_data = pd.read_csv('/Users/pintoza/Desktop/dev/data-science/walmart-proximity/data/processed/distance.csv')\n",
    "\n",
    "# Function to find great circle distance\n",
    "def get_great_circle_distance(zip_coords, store_coords):\n",
    "    return great_circle(zip_coords, store_coords).miles\n",
    "\n",
    "# Prepare the output file\n",
    "output_file = '/Users/pintoza/Desktop/dev/data-science/walmart-proximity/data/processed/time_distance.csv'\n",
    "with open(output_file, 'w') as f:\n",
    "    f.write('zip,walmarts_pot_60\\n')\n",
    "\n",
    "# Process each zip code\n",
    "for index, row in distance_data.iterrows():\n",
    "    zip_code = row['zip']\n",
    "    nearby_stores = str(row['nearby_walmarts']).split(',')\n",
    "    stores_60_under = []\n",
    "\n",
    "    for store_number in nearby_stores:\n",
    "        store_number = store_number.strip()\n",
    "        if store_number.isdigit() and int(store_number) in walmart_geocoded['Store #'].values:\n",
    "            store_coords = walmart_geocoded[walmart_geocoded['Store #'] == int(store_number)][['latitude', 'longitude']].iloc[0]\n",
    "            zip_coords = zips_geocoded[zips_geocoded['zip'] == zip_code][['latitude', 'longitude']].iloc[0]\n",
    "            distance = get_great_circle_distance((zip_coords['latitude'], zip_coords['longitude']), (store_coords['latitude'], store_coords['longitude']))\n",
    "\n",
    "            if distance <= 90:  # 90 miles or less\n",
    "                stores_60_under.append(store_number)\n",
    "\n",
    "    # Write to the output file\n",
    "    with open(output_file, 'a') as f:\n",
    "        line = f\"{zip_code},{' '.join(stores_60_under)}\\n\"\n",
    "        f.write(line)\n"
   ]
  },
  {
   "cell_type": "code",
   "execution_count": null,
   "outputs": [],
   "source": [],
   "metadata": {
    "collapsed": false
   },
   "id": "2c584dc3593ab180"
  }
 ],
 "metadata": {
  "kernelspec": {
   "display_name": "Python 3",
   "language": "python",
   "name": "python3"
  },
  "language_info": {
   "codemirror_mode": {
    "name": "ipython",
    "version": 2
   },
   "file_extension": ".py",
   "mimetype": "text/x-python",
   "name": "python",
   "nbconvert_exporter": "python",
   "pygments_lexer": "ipython2",
   "version": "2.7.6"
  }
 },
 "nbformat": 4,
 "nbformat_minor": 5
}
