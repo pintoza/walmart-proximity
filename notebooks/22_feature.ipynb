{
 "cells": [
  {
   "cell_type": "code",
   "execution_count": 12,
   "id": "initial_id",
   "metadata": {
    "collapsed": true,
    "ExecuteTime": {
     "end_time": "2024-01-11T01:00:19.229493Z",
     "start_time": "2024-01-11T01:00:18.741326Z"
    }
   },
   "outputs": [],
   "source": [
    "import pandas as pd\n",
    "\n",
    "# Load the time_distance.csv dataset\n",
    "time_distance_df = pd.read_csv('/Users/pintoza/Desktop/dev/data-science/walmart-proximity/data/processed/time_distance.csv')\n",
    "\n",
    "# Initialize list to store the output data\n",
    "output_data = []\n",
    "\n",
    "# Iterate through each row in time_distance_df\n",
    "for index, row in time_distance_df.iterrows():\n",
    "    zip_code = row['zip']\n",
    "    if pd.isna(row['walmarts_pot_10']):\n",
    "        continue  # Skip if walmarts_pot_10 is NaN\n",
    "    store_numbers = str(row['walmarts_pot_10']).split()\n",
    "\n",
    "    for store_number in store_numbers:\n",
    "        output_data.append([zip_code, store_number])\n",
    "\n",
    "# Convert the output data to a DataFrame\n",
    "output_df = pd.DataFrame(output_data, columns=['origin', 'destination'])\n",
    "\n",
    "# Save the output DataFrame to a CSV file\n",
    "output_df.to_csv('/Users/pintoza/Desktop/dev/data-science/walmart-proximity/data/processed/final_cleaned_time_distance.csv', index=False)"
   ]
  },
  {
   "cell_type": "code",
   "outputs": [],
   "source": [
    "import pandas as pd\n",
    "\n",
    "# Load the datasets\n",
    "final_cleaned_time_distance_df = pd.read_csv('/Users/pintoza/Desktop/dev/data-science/walmart-proximity/data/processed/final_cleaned_time_distance.csv')\n",
    "zips_geocoded_df = pd.read_csv('/Users/pintoza/Desktop/dev/data-science/walmart-proximity/data/processed/zips_geocoded.csv')\n",
    "walmart_geocoded_df = pd.read_csv('/Users/pintoza/Desktop/dev/data-science/walmart-proximity/data/processed/walmart_geocoded.csv')\n",
    "\n",
    "# Function to concatenate latitude and longitude\n",
    "def concat_lat_long(latitude, longitude):\n",
    "    return f\"{latitude},{longitude}\"\n",
    "\n",
    "# Add concatenated lat,long columns to zips and walmart dataframes\n",
    "zips_geocoded_df['lat_long'] = zips_geocoded_df.apply(lambda x: concat_lat_long(x['latitude'], x['longitude']), axis=1)\n",
    "walmart_geocoded_df['lat_long'] = walmart_geocoded_df.apply(lambda x: concat_lat_long(x['latitude'], x['longitude']), axis=1)\n",
    "\n",
    "# Create dictionaries for fast lookups\n",
    "zip_info = zips_geocoded_df.set_index('zip')['lat_long'].to_dict()\n",
    "walmart_info = walmart_geocoded_df.set_index('Store #')['lat_long'].to_dict()\n",
    "\n",
    "# Process each row to add origin and destination coordinates\n",
    "final_cleaned_time_distance_df['origin_coords'] = final_cleaned_time_distance_df['origin'].map(zip_info)\n",
    "final_cleaned_time_distance_df['destination_coords'] = final_cleaned_time_distance_df['destination'].map(walmart_info)\n",
    "\n",
    "# Save the updated DataFrame\n",
    "final_cleaned_time_distance_df.to_csv('/Users/pintoza/Desktop/dev/data-science/walmart-proximity/data/processed/final_cleaned_time_distance_with_coords.csv', index=False)"
   ],
   "metadata": {
    "collapsed": false,
    "ExecuteTime": {
     "end_time": "2024-01-11T01:05:24.889471Z",
     "start_time": "2024-01-11T01:05:24.652618Z"
    }
   },
   "id": "2f1f3f328e7084c2",
   "execution_count": 13
  },
  {
   "cell_type": "code",
   "outputs": [],
   "source": [
    "import pandas as pd\n",
    "\n",
    "# Load the datasets\n",
    "final_df = pd.read_csv('/Users/pintoza/Desktop/dev/data-science/walmart-proximity/data/processed/final_cleaned_time_distance_with_coords.csv')\n",
    "zips_geocoded_df = pd.read_csv('/Users/pintoza/Desktop/dev/data-science/walmart-proximity/data/processed/zips_geocoded.csv')\n",
    "\n",
    "# Create a dictionary for RUCA values based on zip code\n",
    "ruca_dict = zips_geocoded_df.set_index('zip')['ruca'].to_dict()\n",
    "\n",
    "# Map RUCA values to the final dataframe based on origin\n",
    "final_df['ruca'] = final_df['origin'].map(ruca_dict)\n",
    "\n",
    "# Save the updated DataFrame\n",
    "final_df.to_csv('/Users/pintoza/Desktop/dev/data-science/walmart-proximity/data/processed/final_cleaned_time_distance_with_ruca.csv', index=False)"
   ],
   "metadata": {
    "collapsed": false,
    "ExecuteTime": {
     "end_time": "2024-01-11T01:08:48.323228Z",
     "start_time": "2024-01-11T01:08:48.178222Z"
    }
   },
   "id": "ba093624d596d9c1",
   "execution_count": 14
  },
  {
   "cell_type": "code",
   "outputs": [],
   "source": [
    "import pandas as pd\n",
    "from geopy.distance import great_circle\n",
    "\n",
    "# Load the dataset\n",
    "df = pd.read_csv('/Users/pintoza/Desktop/dev/data-science/walmart-proximity/data/processed/final_cleaned_time_distance_with_ruca.csv')\n",
    "\n",
    "# Function to calculate great circle distance\n",
    "def calculate_distance(row):\n",
    "    origin = tuple(map(float, row['origin_coords'].split(',')))\n",
    "    destination = tuple(map(float, row['destination_coords'].split(',')))\n",
    "    return great_circle(origin, destination).miles\n",
    "\n",
    "# Apply the function to calculate distance\n",
    "df['great_circle_distance'] = df.apply(calculate_distance, axis=1)\n",
    "\n",
    "# Save the updated DataFrame\n",
    "df.to_csv('/Users/pintoza/Desktop/dev/data-science/walmart-proximity/data/processed/final_cleaned_time_distance_with_great_circle_distance.csv', index=False)"
   ],
   "metadata": {
    "collapsed": false,
    "ExecuteTime": {
     "end_time": "2024-01-11T01:15:13.701555Z",
     "start_time": "2024-01-11T01:15:13.024210Z"
    }
   },
   "id": "7374d9d52b9e9836",
   "execution_count": 15
  },
  {
   "cell_type": "code",
   "outputs": [],
   "source": [
    "df = pd.read_csv('/Users/pintoza/Desktop/dev/data-science/walmart-proximity/data/processed/final_cleaned_time_distance_with_great_circle_distance.csv')\n",
    "\n",
    "data_encoded = pd.get_dummies(df, columns=['ruca'])\n",
    "data = data_encoded\n",
    "data.to_csv('/Users/pintoza/Desktop/dev/data-science/walmart-proximity/data/processed/final_cleaned_time_distance.csv', index=False)\n"
   ],
   "metadata": {
    "collapsed": false,
    "ExecuteTime": {
     "end_time": "2024-01-11T01:31:59.378613Z",
     "start_time": "2024-01-11T01:31:59.229145Z"
    }
   },
   "id": "5b347cc6f8943e3a",
   "execution_count": 18
  },
  {
   "cell_type": "code",
   "outputs": [],
   "source": [],
   "metadata": {
    "collapsed": false
   },
   "id": "2477ca629847f054"
  }
 ],
 "metadata": {
  "kernelspec": {
   "display_name": "Python 3",
   "language": "python",
   "name": "python3"
  },
  "language_info": {
   "codemirror_mode": {
    "name": "ipython",
    "version": 2
   },
   "file_extension": ".py",
   "mimetype": "text/x-python",
   "name": "python",
   "nbconvert_exporter": "python",
   "pygments_lexer": "ipython2",
   "version": "2.7.6"
  }
 },
 "nbformat": 4,
 "nbformat_minor": 5
}
