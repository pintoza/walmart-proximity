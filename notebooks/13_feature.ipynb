{
 "cells": [
  {
   "cell_type": "code",
   "execution_count": 1,
   "id": "initial_id",
   "metadata": {
    "collapsed": true,
    "ExecuteTime": {
     "end_time": "2024-01-04T01:37:30.540299Z",
     "start_time": "2024-01-04T01:37:30.523452Z"
    }
   },
   "outputs": [
    {
     "data": {
      "text/plain": "(4057, 8.114)"
     },
     "execution_count": 1,
     "metadata": {},
     "output_type": "execute_result"
    }
   ],
   "source": [
    "# Calculate API cost\n",
    "\n",
    "# Provided state data with the number of ZIP codes and Walmart stores for each state\n",
    "state_data = {\n",
    "    \"Texas\": (22, 43),\n",
    "    \"Florida\": (11, 32),\n",
    "    \"North Carolina\": (10, 18),\n",
    "    \"California\": (21, 15),\n",
    "    \"Alabama\": (7, 14),\n",
    "    \"Kansas\": (8, 14),\n",
    "    \"Georgia\": (8, 13),\n",
    "    \"Illinois\": (16, 13),\n",
    "    \"Oklahoma\": (8, 13),\n",
    "    \"Missouri\": (11, 12),\n",
    "    \"Arizona\": (5, 11),\n",
    "    \"Louisiana\": (5, 11),\n",
    "    \"Virginia\": (10, 11),\n",
    "    \"Arkansas\": (7, 10),\n",
    "    \"New Jersey\": (7, 10),\n",
    "    \"Ohio\": (14, 10),\n",
    "    \"Tennessee\": (7, 10),\n",
    "    \"Michigan\": (11, 9),\n",
    "    \"Mississippi\": (5, 9),\n",
    "    \"Pennsylvania\": (21, 9),\n",
    "    \"Indiana\": (9, 8),\n",
    "    \"Kentucky\": (9, 8),\n",
    "    \"Minnesota\": (9, 8),\n",
    "    \"South Carolina\": (5, 7),\n",
    "    \"Maryland\": (5, 5),\n",
    "    \"New Mexico\": (4, 5),\n",
    "    \"Washington\": (6, 5),\n",
    "    \"Wisconsin\": (9, 5),\n",
    "    \"Colorado\": (6, 4),\n",
    "    \"Connecticut\": (3, 4),\n",
    "    \"Nebraska\": (6, 4),\n",
    "    \"Oregon\": (5, 4),\n",
    "    \"Utah\": (3, 4),\n",
    "    \"West Virginia\": (9, 4),\n",
    "    \"Nevada\": (2, 3),\n",
    "    \"New York\": (20, 3),\n",
    "    \"Alaska\": (2, 2),\n",
    "    \"Delaware\": (1, 2),\n",
    "    \"Idaho\": (3, 2),\n",
    "    \"Iowa\": (10, 1),\n",
    "    \"Massachusetts\": (6, 1),\n",
    "    \"North Dakota\": (4, 1),\n",
    "    \"Rhode Island\": (1, 1),\n",
    "    \"Vermont\": (3, 1),\n",
    "    \"Wyoming\": (2, 1),\n",
    "}\n",
    "\n",
    "# Calculate the total number of elements\n",
    "total_elements = sum(zip_count * walmart_count for zip_count, walmart_count in state_data.values())\n",
    "\n",
    "# Calculate the cost based on the pricing tiers provided\n",
    "def calculate_cost(elements):\n",
    "    tier_costs = [2, 1.6, 1.25]  # Cost per element in each tier\n",
    "    tier_limits = [100000, 200000, 200000]  # Element limits for each tier\n",
    "    total_cost = 0\n",
    "    for cost, limit in zip(tier_costs, tier_limits):\n",
    "        if elements > limit:\n",
    "            total_cost += limit * cost\n",
    "            elements -= limit\n",
    "        else:\n",
    "            total_cost += elements * cost\n",
    "            break  # No more elements left\n",
    "    return total_cost / 1000  # Convert cost to dollars\n",
    "\n",
    "# Calculate the total cost\n",
    "total_cost = calculate_cost(total_elements)\n",
    "\n",
    "(total_elements, total_cost)"
   ]
  },
  {
   "cell_type": "code",
   "execution_count": null,
   "outputs": [],
   "source": [],
   "metadata": {
    "collapsed": false
   },
   "id": "eb543bcc9b0d8b62"
  }
 ],
 "metadata": {
  "kernelspec": {
   "display_name": "Python 3",
   "language": "python",
   "name": "python3"
  },
  "language_info": {
   "codemirror_mode": {
    "name": "ipython",
    "version": 2
   },
   "file_extension": ".py",
   "mimetype": "text/x-python",
   "name": "python",
   "nbconvert_exporter": "python",
   "pygments_lexer": "ipython2",
   "version": "2.7.6"
  }
 },
 "nbformat": 4,
 "nbformat_minor": 5
}
