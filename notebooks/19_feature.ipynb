{
 "cells": [
  {
   "cell_type": "code",
   "execution_count": 3,
   "id": "initial_id",
   "metadata": {
    "collapsed": true,
    "ExecuteTime": {
     "end_time": "2024-01-09T00:40:34.038065Z",
     "start_time": "2024-01-09T00:40:33.612862Z"
    }
   },
   "outputs": [
    {
     "name": "stdout",
     "output_type": "stream",
     "text": [
      "Total number of combinations: 77882\n"
     ]
    }
   ],
   "source": [
    "import pandas as pd\n",
    "\n",
    "# Load the time_distance.csv file\n",
    "time_distance = pd.read_csv('/Users/pintoza/Desktop/dev/data-science/walmart-proximity/data/processed/time_distance.csv')\n",
    "\n",
    "# Initialize a counter\n",
    "total_combinations = 0\n",
    "\n",
    "# Loop through each row and count the number of Walmart stores for each ZIP code\n",
    "for index, row in time_distance.iterrows():\n",
    "    # Split the string of Walmart store numbers and count them\n",
    "    stores = str(row['walmarts_pot_10']).split(' ')\n",
    "    # Filter out any empty strings in case of missing data\n",
    "    stores = [store for store in stores if store.strip()]\n",
    "    total_combinations += len(stores)\n",
    "\n",
    "print(f\"Total number of combinations: {total_combinations}\")\n"
   ]
  },
  {
   "cell_type": "code",
   "execution_count": 4,
   "outputs": [
    {
     "data": {
      "text/plain": "3938"
     },
     "execution_count": 4,
     "metadata": {},
     "output_type": "execute_result"
    }
   ],
   "source": [
    "import math\n",
    "\n",
    "# Population size\n",
    "N = total_combinations\n",
    "\n",
    "# Confidence Level (95%) Z-Score\n",
    "Z = 2.576\n",
    "\n",
    "# Margin of error (e.g., 5%)\n",
    "e = 0.02\n",
    "\n",
    "# Assuming p = 0.5 (maximum variability)\n",
    "p = 0.5\n",
    "\n",
    "# Calculate the sample size\n",
    "sample_size = ((Z**2 * p * (1 - p)) / e**2) / (1 + ((Z**2 * p * (1 - p)) / (e**2 * N)))\n",
    "sample_size = math.ceil(sample_size)\n",
    "\n",
    "sample_size"
   ],
   "metadata": {
    "collapsed": false,
    "ExecuteTime": {
     "end_time": "2024-01-09T00:40:47.547453Z",
     "start_time": "2024-01-09T00:40:47.544924Z"
    }
   },
   "id": "3fd88fba8193f138"
  },
  {
   "cell_type": "code",
   "execution_count": null,
   "outputs": [],
   "source": [],
   "metadata": {
    "collapsed": false
   },
   "id": "b8989ccbf2252c1d"
  }
 ],
 "metadata": {
  "kernelspec": {
   "display_name": "Python 3",
   "language": "python",
   "name": "python3"
  },
  "language_info": {
   "codemirror_mode": {
    "name": "ipython",
    "version": 2
   },
   "file_extension": ".py",
   "mimetype": "text/x-python",
   "name": "python",
   "nbconvert_exporter": "python",
   "pygments_lexer": "ipython2",
   "version": "2.7.6"
  }
 },
 "nbformat": 4,
 "nbformat_minor": 5
}
