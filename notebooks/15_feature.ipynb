{
 "cells": [
  {
   "cell_type": "code",
   "execution_count": 9,
   "outputs": [],
   "source": [
    "import pandas as pd\n",
    "from geopy.distance import great_circle\n",
    "\n",
    "# Load the datasets\n",
    "distance_sample_df = pd.read_csv('/Users/pintoza/Desktop/dev/data-science/walmart-proximity/data/interim/distance_sample.csv')\n",
    "zips_sample_geocoded_df = pd.read_csv('/Users/pintoza/Desktop/dev/data-science/walmart-proximity/data/interim/zips_sample_geocoded.csv')\n",
    "\n",
    "# Split 'origin' into latitude and longitude\n",
    "distance_sample_df[['lat_origin', 'lon_origin']] = distance_sample_df['origin'].str.strip('\"').str.split(',', expand=True).astype(float)\n",
    "\n",
    "# Define a function to calculate great circle distance\n",
    "def calculate_great_circle_distance(origin, destination):\n",
    "    return great_circle(origin, destination).miles\n",
    "\n",
    "# Calculate great circle distance for each row in the distance_sample_df\n",
    "for index, row in distance_sample_df.iterrows():\n",
    "    origin = (row['lat_origin'], row['lon_origin'])\n",
    "    destination_coords = row['destination'].strip('\"').split(',')\n",
    "    destination = (float(destination_coords[0]), float(destination_coords[1]))\n",
    "    distance_sample_df.at[index, 'great_circle_distance'] = calculate_great_circle_distance(origin, destination)\n",
    "\n",
    "# Function to find RUCA based on latitude and longitude\n",
    "def find_ruca(lat, lon, zips_df):\n",
    "    # Convert lat and lon to the same precision as in zips_df\n",
    "    lat = round(lat, 6)\n",
    "    lon = round(lon, 6)\n",
    "    # Find the closest match in the zips dataframe\n",
    "    potential_matches = zips_df[\n",
    "        (zips_df['latitude'].round(6) == lat) & \n",
    "        (zips_df['longitude'].round(6) == lon)\n",
    "    ]\n",
    "    if not potential_matches.empty:\n",
    "        return potential_matches.iloc[0]['ruca']\n",
    "    else:\n",
    "        return None\n",
    "\n",
    "# Append RUCA to the distance_sample_df\n",
    "distance_sample_df['ruca'] = distance_sample_df.apply(\n",
    "    lambda row: find_ruca(\n",
    "        row['lat_origin'], \n",
    "        row['lon_origin'], \n",
    "        zips_sample_geocoded_df\n",
    "    ), \n",
    "    axis=1\n",
    ")\n",
    "\n",
    "# Export the DataFrame with the new 'great_circle_distance' and 'ruca' columns\n",
    "distance_sample_df.to_csv('/Users/pintoza/Desktop/dev/data-science/walmart-proximity/data/interim/distance_sample.csv', index=False)"
   ],
   "metadata": {
    "collapsed": true,
    "ExecuteTime": {
     "end_time": "2024-01-06T19:18:40.102702Z",
     "start_time": "2024-01-06T19:18:39.412432Z"
    }
   },
   "id": "initial_id"
  },
  {
   "cell_type": "code",
   "execution_count": 10,
   "outputs": [
    {
     "data": {
      "text/plain": "'/Users/pintoza/Desktop/dev/data-science/walmart-proximity/data/interim/distance_sample.csv'"
     },
     "execution_count": 10,
     "metadata": {},
     "output_type": "execute_result"
    }
   ],
   "source": [
    "# Drop the 'lat_origin' and 'lon_origin' columns\n",
    "distance_sample_df.drop(columns=['lat_origin', 'lon_origin'], inplace=True)\n",
    "\n",
    "# Save the updated DataFrame without the 'lat_origin' and 'lon_origin' columns\n",
    "updated_csv_path = '/Users/pintoza/Desktop/dev/data-science/walmart-proximity/data/interim/distance_sample.csv'\n",
    "distance_sample_df.to_csv(updated_csv_path, index=False)\n",
    "\n",
    "# Return the path to the updated CSV\n",
    "updated_csv_path"
   ],
   "metadata": {
    "collapsed": false,
    "ExecuteTime": {
     "end_time": "2024-01-06T19:21:23.185765Z",
     "start_time": "2024-01-06T19:21:23.170232Z"
    }
   },
   "id": "4fee359e59001d92"
  },
  {
   "cell_type": "code",
   "execution_count": null,
   "outputs": [],
   "source": [],
   "metadata": {
    "collapsed": false
   },
   "id": "99269f2bbe98a325"
  }
 ],
 "metadata": {
  "kernelspec": {
   "display_name": "Python 3",
   "language": "python",
   "name": "python3"
  },
  "language_info": {
   "codemirror_mode": {
    "name": "ipython",
    "version": 2
   },
   "file_extension": ".py",
   "mimetype": "text/x-python",
   "name": "python",
   "nbconvert_exporter": "python",
   "pygments_lexer": "ipython2",
   "version": "2.7.6"
  }
 },
 "nbformat": 4,
 "nbformat_minor": 5
}
