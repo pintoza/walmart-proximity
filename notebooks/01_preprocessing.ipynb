{
 "cells": [
  {
   "cell_type": "code",
   "execution_count": 1,
   "id": "initial_id",
   "metadata": {
    "collapsed": true,
    "ExecuteTime": {
     "end_time": "2024-01-02T01:43:20.139370Z",
     "start_time": "2024-01-02T01:43:19.869336Z"
    }
   },
   "outputs": [],
   "source": [
    "import pandas as pd"
   ]
  },
  {
   "cell_type": "code",
   "execution_count": 3,
   "outputs": [],
   "source": [
    "walmart = pd.read_csv('/Users/pintoza/Desktop/dev/data-science/walmart-proximity/data/processed/walmart.csv')"
   ],
   "metadata": {
    "collapsed": false,
    "ExecuteTime": {
     "end_time": "2024-01-02T01:43:40.550310Z",
     "start_time": "2024-01-02T01:43:40.539347Z"
    }
   },
   "id": "80a96c98ec8bcabf"
  },
  {
   "cell_type": "code",
   "execution_count": 4,
   "outputs": [],
   "source": [
    "# Concatenate the address fields\n",
    "walmart['Address'] = walmart['Address'] + ', ' + walmart['City'] + ', ' + walmart['State']"
   ],
   "metadata": {
    "collapsed": false,
    "ExecuteTime": {
     "end_time": "2024-01-02T01:44:19.606200Z",
     "start_time": "2024-01-02T01:44:19.602703Z"
    }
   },
   "id": "3443e39c9821adf3"
  },
  {
   "cell_type": "code",
   "execution_count": 5,
   "outputs": [
    {
     "data": {
      "text/plain": "               State            City  \\\n0            Alabama      Adamsville   \n1            Alabama       Alabaster   \n2            Alabama       Alabaster   \n3            Alabama  Alexander City   \n4            Alabama       Andalusia   \n...              ...             ...   \n4600  North Carolina         Raleigh   \n4601  North Carolina     Winterville   \n4602    Rhode Island         Newport   \n4603           Texas      Carrollton   \n4604           Texas        Commerce   \n\n                                                Address          Designation  \\\n0               2473 Hackworth Rd., Adamsville, Alabama  Walmart Supercenter   \n1                      9085 Hwy 119, Alabaster, Alabama  Neighborhood Market   \n2       630 Colonial Promenade Pkwy, Alabaster, Alabama  Walmart Supercenter   \n3             2643 Highway 280, Alexander City, Alabama  Walmart Supercenter   \n4             1991 M L King Jr Expy, Andalusia, Alabama  Walmart Supercenter   \n...                                                 ...                  ...   \n4600        6600 Glenwood Ave., Raleigh, North Carolina  Walmart Supercenter   \n4601  3801 S Memorial Drive, Winterville, North Caro...  Neighborhood Market   \n4602            199 Connell Hwy., Newport, Rhode Island  Walmart Supercenter   \n4603        1025 W Trinity Mills Rd., Carrollton, Texas      Clinic Pharmacy   \n4604             2701 State Highway 50, Commerce, Texas  Walmart Supercenter   \n\n      Store #           Open Date  \n0        1158       March 1, 1988  \n1        4756  September 30, 2015  \n2         423    December 1, 1981  \n3         726      August 4, 1981  \n4        1091     October 1, 1987  \n...       ...                 ...  \n4600     1751    November 5, 1991  \n4601     7235     January 7, 2015  \n4602     2885    January 26, 2000  \n4603     8899     January 1, 2000  \n4604      240       July 19, 1979  \n\n[4605 rows x 6 columns]",
      "text/html": "<div>\n<style scoped>\n    .dataframe tbody tr th:only-of-type {\n        vertical-align: middle;\n    }\n\n    .dataframe tbody tr th {\n        vertical-align: top;\n    }\n\n    .dataframe thead th {\n        text-align: right;\n    }\n</style>\n<table border=\"1\" class=\"dataframe\">\n  <thead>\n    <tr style=\"text-align: right;\">\n      <th></th>\n      <th>State</th>\n      <th>City</th>\n      <th>Address</th>\n      <th>Designation</th>\n      <th>Store #</th>\n      <th>Open Date</th>\n    </tr>\n  </thead>\n  <tbody>\n    <tr>\n      <th>0</th>\n      <td>Alabama</td>\n      <td>Adamsville</td>\n      <td>2473 Hackworth Rd., Adamsville, Alabama</td>\n      <td>Walmart Supercenter</td>\n      <td>1158</td>\n      <td>March 1, 1988</td>\n    </tr>\n    <tr>\n      <th>1</th>\n      <td>Alabama</td>\n      <td>Alabaster</td>\n      <td>9085 Hwy 119, Alabaster, Alabama</td>\n      <td>Neighborhood Market</td>\n      <td>4756</td>\n      <td>September 30, 2015</td>\n    </tr>\n    <tr>\n      <th>2</th>\n      <td>Alabama</td>\n      <td>Alabaster</td>\n      <td>630 Colonial Promenade Pkwy, Alabaster, Alabama</td>\n      <td>Walmart Supercenter</td>\n      <td>423</td>\n      <td>December 1, 1981</td>\n    </tr>\n    <tr>\n      <th>3</th>\n      <td>Alabama</td>\n      <td>Alexander City</td>\n      <td>2643 Highway 280, Alexander City, Alabama</td>\n      <td>Walmart Supercenter</td>\n      <td>726</td>\n      <td>August 4, 1981</td>\n    </tr>\n    <tr>\n      <th>4</th>\n      <td>Alabama</td>\n      <td>Andalusia</td>\n      <td>1991 M L King Jr Expy, Andalusia, Alabama</td>\n      <td>Walmart Supercenter</td>\n      <td>1091</td>\n      <td>October 1, 1987</td>\n    </tr>\n    <tr>\n      <th>...</th>\n      <td>...</td>\n      <td>...</td>\n      <td>...</td>\n      <td>...</td>\n      <td>...</td>\n      <td>...</td>\n    </tr>\n    <tr>\n      <th>4600</th>\n      <td>North Carolina</td>\n      <td>Raleigh</td>\n      <td>6600 Glenwood Ave., Raleigh, North Carolina</td>\n      <td>Walmart Supercenter</td>\n      <td>1751</td>\n      <td>November 5, 1991</td>\n    </tr>\n    <tr>\n      <th>4601</th>\n      <td>North Carolina</td>\n      <td>Winterville</td>\n      <td>3801 S Memorial Drive, Winterville, North Caro...</td>\n      <td>Neighborhood Market</td>\n      <td>7235</td>\n      <td>January 7, 2015</td>\n    </tr>\n    <tr>\n      <th>4602</th>\n      <td>Rhode Island</td>\n      <td>Newport</td>\n      <td>199 Connell Hwy., Newport, Rhode Island</td>\n      <td>Walmart Supercenter</td>\n      <td>2885</td>\n      <td>January 26, 2000</td>\n    </tr>\n    <tr>\n      <th>4603</th>\n      <td>Texas</td>\n      <td>Carrollton</td>\n      <td>1025 W Trinity Mills Rd., Carrollton, Texas</td>\n      <td>Clinic Pharmacy</td>\n      <td>8899</td>\n      <td>January 1, 2000</td>\n    </tr>\n    <tr>\n      <th>4604</th>\n      <td>Texas</td>\n      <td>Commerce</td>\n      <td>2701 State Highway 50, Commerce, Texas</td>\n      <td>Walmart Supercenter</td>\n      <td>240</td>\n      <td>July 19, 1979</td>\n    </tr>\n  </tbody>\n</table>\n<p>4605 rows × 6 columns</p>\n</div>"
     },
     "execution_count": 5,
     "metadata": {},
     "output_type": "execute_result"
    }
   ],
   "source": [
    "walmart"
   ],
   "metadata": {
    "collapsed": false,
    "ExecuteTime": {
     "end_time": "2024-01-02T01:44:22.439707Z",
     "start_time": "2024-01-02T01:44:22.431296Z"
    }
   },
   "id": "282a2ce8de75a384"
  },
  {
   "cell_type": "code",
   "execution_count": 6,
   "outputs": [],
   "source": [
    "walmart = walmart.drop(walmart.columns[[0, 1]], axis=1)"
   ],
   "metadata": {
    "collapsed": false,
    "ExecuteTime": {
     "end_time": "2024-01-02T01:46:00.375210Z",
     "start_time": "2024-01-02T01:46:00.372105Z"
    }
   },
   "id": "97b17cc8fb327034"
  },
  {
   "cell_type": "code",
   "execution_count": 7,
   "outputs": [],
   "source": [
    "# Save the modified DataFrame to a CSV file\n",
    "walmart.to_csv('/Users/pintoza/Desktop/dev/data-science/walmart-proximity/data/processed/walmart.csv', index=False)"
   ],
   "metadata": {
    "collapsed": false,
    "ExecuteTime": {
     "end_time": "2024-01-02T01:46:12.888025Z",
     "start_time": "2024-01-02T01:46:12.866222Z"
    }
   },
   "id": "87830c355ee66ec9"
  },
  {
   "cell_type": "code",
   "execution_count": null,
   "outputs": [],
   "source": [],
   "metadata": {
    "collapsed": false
   },
   "id": "f366436bc2e38319"
  }
 ],
 "metadata": {
  "kernelspec": {
   "display_name": "Python 3",
   "language": "python",
   "name": "python3"
  },
  "language_info": {
   "codemirror_mode": {
    "name": "ipython",
    "version": 2
   },
   "file_extension": ".py",
   "mimetype": "text/x-python",
   "name": "python",
   "nbconvert_exporter": "python",
   "pygments_lexer": "ipython2",
   "version": "2.7.6"
  }
 },
 "nbformat": 4,
 "nbformat_minor": 5
}
