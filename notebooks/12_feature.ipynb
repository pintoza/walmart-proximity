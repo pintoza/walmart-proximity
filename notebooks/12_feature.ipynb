{
 "cells": [
  {
   "cell_type": "code",
   "execution_count": 38,
   "outputs": [],
   "source": [
    "import pandas as pd\n",
    "from geocodio import GeocodioClient\n",
    "from dotenv import load_dotenv\n",
    "import os\n",
    "\n",
    "# Load API key from .env file\n",
    "load_dotenv()\n",
    "api_key = os.getenv(\"GEOCODIO_API_KEY\")\n",
    "\n",
    "# Initialize the Geocodio client\n",
    "client = GeocodioClient(api_key)\n",
    "\n",
    "# Geocode a single address\n",
    "def batch_geocode_addresses(addresses):\n",
    "    try:\n",
    "        return client.batch_geocode(addresses)\n",
    "    except Exception as e:\n",
    "        print(f\"Error during batch geocoding: {e}\")\n",
    "        return None\n",
    "\n",
    "# Load addresses from CSV files\n",
    "walmart_df = pd.read_csv('/Users/pintoza/Desktop/dev/data-science/walmart-proximity/data/interim/walmart_sample.csv')\n",
    "zips_df = pd.read_csv('/Users/pintoza/Desktop/dev/data-science/walmart-proximity/data/interim/zips_sample.csv')\n",
    "\n",
    "# Extract addresses and ZIP codes as lists\n",
    "walmart_addresses = walmart_df['Address'].tolist()  # Assuming 'Address' is the column name\n",
    "zip_codes = zips_df['zip'].astype(str).tolist()  # Assuming 'zip' is the column name\n",
    "\n",
    "# Batch geocode\n",
    "walmart_geocoded = batch_geocode_addresses(walmart_addresses)\n",
    "zip_geocoded = batch_geocode_addresses(zip_codes)"
   ],
   "metadata": {
    "collapsed": false,
    "ExecuteTime": {
     "end_time": "2024-01-03T02:07:11.416545Z",
     "start_time": "2024-01-03T02:06:47.347285Z"
    }
   },
   "id": "ee2992e6284df542"
  },
  {
   "cell_type": "code",
   "execution_count": 41,
   "outputs": [],
   "source": [
    "# function to extract lat/lng from the geocoded data\n",
    "def extract_lat_lng(geocoded_data):\n",
    "    lat_lng_list = []\n",
    "    for item in geocoded_data:\n",
    "        if item['results']:  # Check if the results list is not empty\n",
    "            lat = item['results'][0]['location']['lat']\n",
    "            lng = item['results'][0]['location']['lng']\n",
    "            lat_lng_list.append((lat, lng))\n",
    "        else:\n",
    "            lat_lng_list.append((None, None))  # Append None values if no results\n",
    "    return lat_lng_list\n",
    "\n",
    "walmart_lat_lng = extract_lat_lng(walmart_geocoded)\n",
    "zip_lat_lng = extract_lat_lng(zip_geocoded)"
   ],
   "metadata": {
    "collapsed": false,
    "ExecuteTime": {
     "end_time": "2024-01-03T02:11:05.712480Z",
     "start_time": "2024-01-03T02:11:05.700353Z"
    }
   },
   "id": "69b47e756d3f8bcb"
  },
  {
   "cell_type": "code",
   "execution_count": 42,
   "outputs": [],
   "source": [
    "# Add lat/lng to the Walmart dataframe\n",
    "walmart_df = pd.read_csv('/Users/pintoza/Desktop/dev/data-science/walmart-proximity/data/interim/walmart_sample.csv')\n",
    "zip_df = pd.read_csv('/Users/pintoza/Desktop/dev/data-science/walmart-proximity/data/interim/zips_sample.csv')\n",
    "\n",
    "# Assuming the length of walmart_lat_lng and zip_lat_lng matches the respective dataframes\n",
    "walmart_df[['latitude', 'longitude']] = pd.DataFrame(walmart_lat_lng, columns=['latitude', 'longitude'])\n",
    "zip_df[['latitude', 'longitude']] = pd.DataFrame(zip_lat_lng, columns=['latitude', 'longitude'])\n",
    "\n",
    "# Save the updated dataframes\n",
    "walmart_df.to_csv('/Users/pintoza/Desktop/dev/data-science/walmart-proximity/data/interim/walmart_sample_geocoded.csv', index=False)\n",
    "zip_df.to_csv('/Users/pintoza/Desktop/dev/data-science/walmart-proximity/data/interim/zips_sample_geocoded.csv', index=False)"
   ],
   "metadata": {
    "collapsed": false,
    "ExecuteTime": {
     "end_time": "2024-01-03T02:12:13.015691Z",
     "start_time": "2024-01-03T02:12:12.988158Z"
    }
   },
   "id": "da1bf1cfa6112b2f"
  },
  {
   "cell_type": "code",
   "execution_count": null,
   "outputs": [],
   "source": [],
   "metadata": {
    "collapsed": false
   },
   "id": "8b7c56d6bf832b9c"
  }
 ],
 "metadata": {
  "kernelspec": {
   "display_name": "Python 3",
   "language": "python",
   "name": "python3"
  },
  "language_info": {
   "codemirror_mode": {
    "name": "ipython",
    "version": 2
   },
   "file_extension": ".py",
   "mimetype": "text/x-python",
   "name": "python",
   "nbconvert_exporter": "python",
   "pygments_lexer": "ipython2",
   "version": "2.7.6"
  }
 },
 "nbformat": 4,
 "nbformat_minor": 5
}
