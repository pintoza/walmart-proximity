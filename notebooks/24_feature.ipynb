{
 "cells": [
  {
   "cell_type": "code",
   "execution_count": 1,
   "id": "initial_id",
   "metadata": {
    "collapsed": true,
    "ExecuteTime": {
     "end_time": "2024-01-07T03:29:17.272831Z",
     "start_time": "2024-01-07T03:29:16.849782Z"
    }
   },
   "outputs": [],
   "source": [
    "import pandas as pd"
   ]
  },
  {
   "cell_type": "code",
   "execution_count": 2,
   "outputs": [],
   "source": [
    "# load time data\n",
    "time_data = pd.read_csv('/Users/pintoza/Desktop/dev/data-science/walmart-proximity/data/processed/time.csv')"
   ],
   "metadata": {
    "collapsed": false,
    "ExecuteTime": {
     "end_time": "2024-01-07T03:29:32.612736Z",
     "start_time": "2024-01-07T03:29:32.597918Z"
    }
   },
   "id": "49fc97bcd80f543e"
  },
  {
   "cell_type": "code",
   "execution_count": 3,
   "outputs": [],
   "source": [
    "# load zip geocoded data\n",
    "zip_data = pd.read_csv('/Users/pintoza/Desktop/dev/data-science/walmart-proximity/data/processed/zips_geocoded.csv')"
   ],
   "metadata": {
    "collapsed": false,
    "ExecuteTime": {
     "end_time": "2024-01-07T03:29:46.726409Z",
     "start_time": "2024-01-07T03:29:46.691519Z"
    }
   },
   "id": "7a61e166bb389695"
  },
  {
   "cell_type": "code",
   "execution_count": 5,
   "outputs": [
    {
     "data": {
      "text/plain": "         zip  15_min  30_min  45_min  60_min      ruca population  \\\n0       1001       9      19      36      66     Urban     16,088   \n1       1002       7      16      34      57     Urban     27,323   \n2       1003       7      16      35      54     Urban     13,711   \n3       1005       3      17      31      60  Suburban      4,947   \n4       1007       8      18      39      60     Urban     15,304   \n...      ...     ...     ...     ...     ...       ...        ...   \n33485  99923       0       0       0       0     Rural         13   \n33486  99925       0       0       0       0     Rural        917   \n33487  99926       0       1       1       1     Rural      1,445   \n33488  99927       0       0       0       0     Rural         11   \n33489  99929       0       0       0       0     Rural      2,161   \n\n      median_household_income  \n0                     $72,444  \n1                     $65,013  \n2                         NaN  \n3                    $103,477  \n4                    $101,076  \n...                       ...  \n33485                     NaN  \n33486                 $70,625  \n33487                 $58,229  \n33488                     NaN  \n33489                 $54,946  \n\n[33490 rows x 8 columns]",
      "text/html": "<div>\n<style scoped>\n    .dataframe tbody tr th:only-of-type {\n        vertical-align: middle;\n    }\n\n    .dataframe tbody tr th {\n        vertical-align: top;\n    }\n\n    .dataframe thead th {\n        text-align: right;\n    }\n</style>\n<table border=\"1\" class=\"dataframe\">\n  <thead>\n    <tr style=\"text-align: right;\">\n      <th></th>\n      <th>zip</th>\n      <th>15_min</th>\n      <th>30_min</th>\n      <th>45_min</th>\n      <th>60_min</th>\n      <th>ruca</th>\n      <th>population</th>\n      <th>median_household_income</th>\n    </tr>\n  </thead>\n  <tbody>\n    <tr>\n      <th>0</th>\n      <td>1001</td>\n      <td>9</td>\n      <td>19</td>\n      <td>36</td>\n      <td>66</td>\n      <td>Urban</td>\n      <td>16,088</td>\n      <td>$72,444</td>\n    </tr>\n    <tr>\n      <th>1</th>\n      <td>1002</td>\n      <td>7</td>\n      <td>16</td>\n      <td>34</td>\n      <td>57</td>\n      <td>Urban</td>\n      <td>27,323</td>\n      <td>$65,013</td>\n    </tr>\n    <tr>\n      <th>2</th>\n      <td>1003</td>\n      <td>7</td>\n      <td>16</td>\n      <td>35</td>\n      <td>54</td>\n      <td>Urban</td>\n      <td>13,711</td>\n      <td>NaN</td>\n    </tr>\n    <tr>\n      <th>3</th>\n      <td>1005</td>\n      <td>3</td>\n      <td>17</td>\n      <td>31</td>\n      <td>60</td>\n      <td>Suburban</td>\n      <td>4,947</td>\n      <td>$103,477</td>\n    </tr>\n    <tr>\n      <th>4</th>\n      <td>1007</td>\n      <td>8</td>\n      <td>18</td>\n      <td>39</td>\n      <td>60</td>\n      <td>Urban</td>\n      <td>15,304</td>\n      <td>$101,076</td>\n    </tr>\n    <tr>\n      <th>...</th>\n      <td>...</td>\n      <td>...</td>\n      <td>...</td>\n      <td>...</td>\n      <td>...</td>\n      <td>...</td>\n      <td>...</td>\n      <td>...</td>\n    </tr>\n    <tr>\n      <th>33485</th>\n      <td>99923</td>\n      <td>0</td>\n      <td>0</td>\n      <td>0</td>\n      <td>0</td>\n      <td>Rural</td>\n      <td>13</td>\n      <td>NaN</td>\n    </tr>\n    <tr>\n      <th>33486</th>\n      <td>99925</td>\n      <td>0</td>\n      <td>0</td>\n      <td>0</td>\n      <td>0</td>\n      <td>Rural</td>\n      <td>917</td>\n      <td>$70,625</td>\n    </tr>\n    <tr>\n      <th>33487</th>\n      <td>99926</td>\n      <td>0</td>\n      <td>1</td>\n      <td>1</td>\n      <td>1</td>\n      <td>Rural</td>\n      <td>1,445</td>\n      <td>$58,229</td>\n    </tr>\n    <tr>\n      <th>33488</th>\n      <td>99927</td>\n      <td>0</td>\n      <td>0</td>\n      <td>0</td>\n      <td>0</td>\n      <td>Rural</td>\n      <td>11</td>\n      <td>NaN</td>\n    </tr>\n    <tr>\n      <th>33489</th>\n      <td>99929</td>\n      <td>0</td>\n      <td>0</td>\n      <td>0</td>\n      <td>0</td>\n      <td>Rural</td>\n      <td>2,161</td>\n      <td>$54,946</td>\n    </tr>\n  </tbody>\n</table>\n<p>33490 rows × 8 columns</p>\n</div>"
     },
     "execution_count": 5,
     "metadata": {},
     "output_type": "execute_result"
    }
   ],
   "source": [
    "# merge the dataframes on the zip code\n",
    "final_zip_df = pd.merge(time_data, zip_data[['zip', 'ruca', 'population', 'median_household_income']], on='zip', how='left')\n",
    "final_zip_df"
   ],
   "metadata": {
    "collapsed": false,
    "ExecuteTime": {
     "end_time": "2024-01-07T03:30:14.425074Z",
     "start_time": "2024-01-07T03:30:14.404697Z"
    }
   },
   "id": "177c9b459b5ed0c3"
  },
  {
   "cell_type": "code",
   "execution_count": 6,
   "outputs": [],
   "source": [
    "# save the final dataframe\n",
    "final_zip_df.to_csv('/Users/pintoza/Desktop/dev/data-science/walmart-proximity/data/processed/final_zip_df.csv', index=False)"
   ],
   "metadata": {
    "collapsed": false,
    "ExecuteTime": {
     "end_time": "2024-01-07T03:30:39.404500Z",
     "start_time": "2024-01-07T03:30:39.360810Z"
    }
   },
   "id": "4256777874a1d5a2"
  },
  {
   "cell_type": "code",
   "execution_count": null,
   "outputs": [],
   "source": [],
   "metadata": {
    "collapsed": false
   },
   "id": "493ac1cfa4264150"
  }
 ],
 "metadata": {
  "kernelspec": {
   "display_name": "Python 3",
   "language": "python",
   "name": "python3"
  },
  "language_info": {
   "codemirror_mode": {
    "name": "ipython",
    "version": 2
   },
   "file_extension": ".py",
   "mimetype": "text/x-python",
   "name": "python",
   "nbconvert_exporter": "python",
   "pygments_lexer": "ipython2",
   "version": "2.7.6"
  }
 },
 "nbformat": 4,
 "nbformat_minor": 5
}
