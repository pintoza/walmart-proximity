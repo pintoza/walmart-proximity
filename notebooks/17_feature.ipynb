{
 "cells": [
  {
   "cell_type": "code",
   "execution_count": 13,
   "outputs": [],
   "source": [
    "from geopy.distance import great_circle\n",
    "from scipy.spatial import cKDTree\n",
    "import pandas as pd\n",
    "import numpy as np\n",
    "\n",
    "# Load your geocoded datasets\n",
    "walmart_geocoded = pd.read_csv('/Users/pintoza/Desktop/dev/data-science/walmart-proximity/data/processed/walmart_geocoded.csv')\n",
    "zips_geocoded = pd.read_csv('/Users/pintoza/Desktop/dev/data-science/walmart-proximity/data/processed/zips_geocoded.csv')"
   ],
   "metadata": {
    "collapsed": false,
    "ExecuteTime": {
     "end_time": "2024-01-07T00:15:05.963104Z",
     "start_time": "2024-01-07T00:15:05.912142Z"
    }
   },
   "id": "ce4686d5fb5bbf39"
  },
  {
   "cell_type": "code",
   "execution_count": 14,
   "outputs": [
    {
     "name": "stdout",
     "output_type": "stream",
     "text": [
      "latitude     75\n",
      "longitude    75\n",
      "dtype: int64\n",
      "latitude     0\n",
      "longitude    0\n",
      "dtype: int64\n"
     ]
    }
   ],
   "source": [
    "print(walmart_geocoded[['latitude', 'longitude']].isna().sum())\n",
    "print(np.isinf(walmart_geocoded[['latitude', 'longitude']]).sum())"
   ],
   "metadata": {
    "collapsed": false,
    "ExecuteTime": {
     "end_time": "2024-01-07T00:15:07.581727Z",
     "start_time": "2024-01-07T00:15:07.575691Z"
    }
   },
   "id": "21c061af27395e0c"
  },
  {
   "cell_type": "code",
   "execution_count": 15,
   "outputs": [],
   "source": [
    "# Remove or impute rows with NaN or infinite values\n",
    "walmart_geocoded = walmart_geocoded[~walmart_geocoded[['latitude', 'longitude']].isna().any(axis=1)]\n",
    "walmart_geocoded = walmart_geocoded[np.isfinite(walmart_geocoded['latitude']) & np.isfinite(walmart_geocoded['longitude'])]"
   ],
   "metadata": {
    "collapsed": false,
    "ExecuteTime": {
     "end_time": "2024-01-07T00:15:11.730439Z",
     "start_time": "2024-01-07T00:15:11.726445Z"
    }
   },
   "id": "9af5bee56f9879eb"
  },
  {
   "cell_type": "code",
   "execution_count": 17,
   "outputs": [],
   "source": [
    "# Convert degrees to radians for use with cKDTree\n",
    "walmart_coords = np.radians(walmart_geocoded[['latitude', 'longitude']].values)\n",
    "zip_coords = np.radians(zips_geocoded[['latitude', 'longitude']].values)\n",
    "\n",
    "# Build KD-Trees for both the Walmart locations and ZIP codes\n",
    "walmart_tree = cKDTree(walmart_coords)\n",
    "\n",
    "# Define the radius in radians\n",
    "radius_in_miles = 80\n",
    "earth_radius_in_miles = 3959\n",
    "radius_in_radians = radius_in_miles / earth_radius_in_miles\n",
    "\n",
    "# Find all points within the radius using query_ball_tree\n",
    "results = walmart_tree.query_ball_point(zip_coords, r=radius_in_radians)\n",
    "\n",
    "# Create a DataFrame to hold the results\n",
    "results_df = pd.DataFrame(index=zips_geocoded.index)\n",
    "\n",
    "# Add ZIP code to the results DataFrame\n",
    "results_df['zip'] = zips_geocoded['zip']\n",
    "\n",
    "# Iterate through the results and add the store numbers to the results DataFrame\n",
    "for idx, store_indices in enumerate(results):\n",
    "    if store_indices:  # Check if there are any stores within the threshold\n",
    "        # Retrieve the store numbers using the indices\n",
    "        store_numbers = walmart_geocoded.iloc[store_indices]['Store #'].tolist()\n",
    "        # Add the store numbers to the DataFrame, ensuring each list is a separate column\n",
    "        results_df.at[idx, 'nearby_walmarts'] = ', '.join(map(str, store_numbers))\n",
    "\n",
    "# Save the results to a CSV file\n",
    "results_df.to_csv('/Users/pintoza/Desktop/dev/data-science/walmart-proximity/data/processed/distance.csv', index=False)"
   ],
   "metadata": {
    "collapsed": true,
    "ExecuteTime": {
     "end_time": "2024-01-07T00:18:17.822941Z",
     "start_time": "2024-01-07T00:18:14.570301Z"
    }
   },
   "id": "initial_id"
  },
  {
   "cell_type": "code",
   "execution_count": null,
   "outputs": [],
   "source": [],
   "metadata": {
    "collapsed": false
   },
   "id": "619e5c5473d71ce5"
  }
 ],
 "metadata": {
  "kernelspec": {
   "display_name": "Python 3",
   "language": "python",
   "name": "python3"
  },
  "language_info": {
   "codemirror_mode": {
    "name": "ipython",
    "version": 2
   },
   "file_extension": ".py",
   "mimetype": "text/x-python",
   "name": "python",
   "nbconvert_exporter": "python",
   "pygments_lexer": "ipython2",
   "version": "2.7.6"
  }
 },
 "nbformat": 4,
 "nbformat_minor": 5
}
