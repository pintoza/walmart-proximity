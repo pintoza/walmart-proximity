{
 "cells": [
  {
   "cell_type": "code",
   "outputs": [],
   "source": [
    "import pandas as pd\n",
    "import numpy as np\n",
    "\n",
    "# Load the population dataset\n",
    "population_data = pd.read_csv('/Users/pintoza/Desktop/dev/data-science/walmart-proximity/data/processed/final_cleaned_time_distance.csv')\n",
    "\n",
    "# Coefficients and intercepts for the models\n",
    "coefficients_distance = {'great_circle_distance': 1.335168, 'ruca_Rural': 0.017702, 'ruca_Suburban': -0.144439, 'ruca_Urban': 0.126737}\n",
    "intercept_distance = 0.34598873463459157\n",
    "\n",
    "# Assuming you have coefficients and intercept for the driving_time model\n",
    "coefficients_time = {'great_circle_distance': 1.809767, 'ruca_Rural': -1.119989, 'ruca_Suburban': -0.729187, 'ruca_Urban': 1.849177}  # Replace with actual values\n",
    "intercept_time = 2.961072620208963  # Replace with actual value\n",
    "\n",
    "# Prediction function for the linear regression model\n",
    "def predict_linear_regression(row, coefficients, intercept):\n",
    "    return sum(row[feature] * coef for feature, coef in coefficients.items()) + intercept\n",
    "\n",
    "# Predict driving_distance\n",
    "population_data['driving_distance'] = population_data.apply(predict_linear_regression, axis=1, coefficients=coefficients_distance, intercept=intercept_distance)\n",
    "\n",
    "# Predict driving_time\n",
    "population_data['driving_time'] = population_data.apply(predict_linear_regression, axis=1, coefficients=coefficients_time, intercept=intercept_time)\n",
    "\n",
    "# Binary classification for within_10_miles\n",
    "CONSERVATIVE_THRESHOLD = 8  # miles\n",
    "population_data['within_10_miles'] = np.where(population_data['driving_distance'] <= (CONSERVATIVE_THRESHOLD * 1.60934), 1, 0)\n",
    "\n",
    "# Save the updated DataFrame\n",
    "population_data.to_csv('/Users/pintoza/Desktop/dev/data-science/walmart-proximity/data/processed/final_population_predictions.csv', index=False)"
   ],
   "metadata": {
    "collapsed": false,
    "ExecuteTime": {
     "end_time": "2024-01-11T03:03:10.617450Z",
     "start_time": "2024-01-11T03:03:09.869805Z"
    }
   },
   "id": "592496cff2aa975",
   "execution_count": 8
  },
  {
   "cell_type": "code",
   "outputs": [],
   "source": [],
   "metadata": {
    "collapsed": false
   },
   "id": "30c2459815c52bfc"
  }
 ],
 "metadata": {
  "kernelspec": {
   "display_name": "Python 3",
   "language": "python",
   "name": "python3"
  },
  "language_info": {
   "codemirror_mode": {
    "name": "ipython",
    "version": 2
   },
   "file_extension": ".py",
   "mimetype": "text/x-python",
   "name": "python",
   "nbconvert_exporter": "python",
   "pygments_lexer": "ipython2",
   "version": "2.7.6"
  }
 },
 "nbformat": 4,
 "nbformat_minor": 5
}
