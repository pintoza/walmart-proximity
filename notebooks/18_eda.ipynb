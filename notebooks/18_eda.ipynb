{
 "cells": [
  {
   "cell_type": "code",
   "execution_count": 1,
   "id": "initial_id",
   "metadata": {
    "collapsed": true,
    "ExecuteTime": {
     "end_time": "2024-01-08T04:36:46.939833Z",
     "start_time": "2024-01-08T04:36:46.929220Z"
    }
   },
   "outputs": [
    {
     "data": {
      "text/plain": "4139"
     },
     "execution_count": 1,
     "metadata": {},
     "output_type": "execute_result"
    }
   ],
   "source": [
    "import math\n",
    "\n",
    "# Population size\n",
    "N = 1974750\n",
    "\n",
    "# Confidence Level (95%) Z-Score\n",
    "Z = 2.576\n",
    "\n",
    "# Margin of error (e.g., 5%)\n",
    "e = 0.02\n",
    "\n",
    "# Assuming p = 0.5 (maximum variability)\n",
    "p = 0.5\n",
    "\n",
    "# Calculate the sample size\n",
    "sample_size = ((Z**2 * p * (1 - p)) / e**2) / (1 + ((Z**2 * p * (1 - p)) / (e**2 * N)))\n",
    "sample_size = math.ceil(sample_size)\n",
    "\n",
    "sample_size"
   ]
  },
  {
   "cell_type": "code",
   "execution_count": null,
   "outputs": [],
   "source": [],
   "metadata": {
    "collapsed": false
   },
   "id": "ceba2dac5f2fcea2"
  }
 ],
 "metadata": {
  "kernelspec": {
   "display_name": "Python 3",
   "language": "python",
   "name": "python3"
  },
  "language_info": {
   "codemirror_mode": {
    "name": "ipython",
    "version": 2
   },
   "file_extension": ".py",
   "mimetype": "text/x-python",
   "name": "python",
   "nbconvert_exporter": "python",
   "pygments_lexer": "ipython2",
   "version": "2.7.6"
  }
 },
 "nbformat": 4,
 "nbformat_minor": 5
}
