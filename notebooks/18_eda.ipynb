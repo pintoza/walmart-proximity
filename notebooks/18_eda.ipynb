{
 "cells": [
  {
   "cell_type": "code",
   "execution_count": 10,
   "id": "initial_id",
   "metadata": {
    "collapsed": true,
    "ExecuteTime": {
     "end_time": "2024-01-08T15:02:55.764453Z",
     "start_time": "2024-01-08T15:02:55.638337Z"
    }
   },
   "outputs": [],
   "source": [
    "import pandas as pd\n",
    "\n",
    "# Load the datasets\n",
    "time_distance = pd.read_csv('/Users/pintoza/Desktop/dev/data-science/walmart-proximity/data/processed/time_distance.csv')\n",
    "zips_geocoded = pd.read_csv('/Users/pintoza/Desktop/dev/data-science/walmart-proximity/data/processed/zips_geocoded.csv')\n",
    "walmart_geocoded = pd.read_csv('/Users/pintoza/Desktop/dev/data-science/walmart-proximity/data/processed/walmart_geocoded.csv')\n",
    "\n",
    "# Merging to get RUCA and state for each ZIP code\n",
    "time_distance = time_distance.merge(zips_geocoded[['zip', 'ruca', 'state_name']], left_on='zip', right_on='zip')"
   ]
  },
  {
   "cell_type": "code",
   "execution_count": 11,
   "outputs": [],
   "source": [
    "import random\n",
    "\n",
    "# Sample size\n",
    "sample_size = 4139\n",
    "\n",
    "stratified_sample = time_distance.groupby('ruca', group_keys=False).apply(lambda x: x.sample(min(len(x), sample_size)))\n",
    "\n",
    "# Selecting ZIP-Store combinations\n",
    "sample_data = []\n",
    "\n",
    "for index, row in stratified_sample.iterrows():\n",
    "    stores = str(row['walmarts_pot_60']).split(' ')\n",
    "    store = random.choice(stores)  # Randomly pick one store\n",
    "    if store.isdigit():\n",
    "        sample_data.append({'origin': row['zip'], 'destination': int(store), 'ruca': row['ruca']})\n",
    "\n",
    "# Convert sample data to DataFrame\n",
    "sample_df = pd.DataFrame(sample_data)"
   ],
   "metadata": {
    "collapsed": false,
    "ExecuteTime": {
     "end_time": "2024-01-08T15:02:56.198970Z",
     "start_time": "2024-01-08T15:02:56.007755Z"
    }
   },
   "id": "ceba2dac5f2fcea2"
  },
  {
   "cell_type": "code",
   "execution_count": 12,
   "outputs": [],
   "source": [
    "import pandas as pd\n",
    "from geopy.distance import great_circle\n",
    "\n",
    "# Define the function to get coordinates\n",
    "def get_coords(store_number, zip_code):\n",
    "    store_row = walmart_geocoded[walmart_geocoded['Store #'] == store_number]\n",
    "    zip_row = zips_geocoded[zips_geocoded['zip'] == zip_code]\n",
    "    if not store_row.empty and not zip_row.empty:\n",
    "        store_coords = (store_row['latitude'].iloc[0], store_row['longitude'].iloc[0])\n",
    "        zip_coords = (zip_row['latitude'].iloc[0], zip_row['longitude'].iloc[0])\n",
    "        return zip_coords, store_coords\n",
    "    return None, None\n",
    "\n",
    "# Assuming sample_df is already prepared with 'destination' and 'origin' columns\n",
    "sample_df['origin_lat'], sample_df['origin_lng'] = zip(*sample_df.apply(lambda x: get_coords(x['destination'], x['origin'])[0], axis=1))\n",
    "sample_df['destination_lat'], sample_df['destination_lng'] = zip(*sample_df.apply(lambda x: get_coords(x['destination'], x['origin'])[1], axis=1))\n",
    "\n",
    "# Calculate the great circle distance\n",
    "sample_df['great_circle_distance'] = sample_df.apply(lambda x: great_circle((x['origin_lat'], x['origin_lng']), (x['destination_lat'], x['destination_lng'])).miles, axis=1)\n",
    "\n",
    "# Final DataFrame with required columns\n",
    "final_sample = sample_df[['origin_lat', 'origin_lng', 'destination_lat', 'destination_lng', 'ruca', 'great_circle_distance']]"
   ],
   "metadata": {
    "collapsed": false,
    "ExecuteTime": {
     "end_time": "2024-01-08T15:03:01.187156Z",
     "start_time": "2024-01-08T15:02:57.026110Z"
    }
   },
   "id": "d199ffde7d8d8ffc"
  },
  {
   "cell_type": "code",
   "execution_count": 13,
   "outputs": [],
   "source": [
    "final_sample.to_csv('//Users/pintoza/Desktop/dev/data-science/walmart-proximity/data/processed/time_distance_sample.csv', index=False)"
   ],
   "metadata": {
    "collapsed": false,
    "ExecuteTime": {
     "end_time": "2024-01-08T15:03:04.579127Z",
     "start_time": "2024-01-08T15:03:04.538816Z"
    }
   },
   "id": "443d624b301b879"
  },
  {
   "cell_type": "code",
   "execution_count": 14,
   "outputs": [
    {
     "name": "stderr",
     "output_type": "stream",
     "text": [
      "/var/folders/_6/p9nq2tdd6418xp1vt5dxwqhm0000gn/T/ipykernel_84794/3630749054.py:2: SettingWithCopyWarning: \n",
      "A value is trying to be set on a copy of a slice from a DataFrame.\n",
      "Try using .loc[row_indexer,col_indexer] = value instead\n",
      "\n",
      "See the caveats in the documentation: https://pandas.pydata.org/pandas-docs/stable/user_guide/indexing.html#returning-a-view-versus-a-copy\n",
      "  final_sample['origin'] = final_sample['origin_lat'].astype(str) + ',' + final_sample['origin_lng'].astype(str)\n"
     ]
    }
   ],
   "source": [
    "# Assuming final_sample is your DataFrame\n",
    "final_sample['origin'] = final_sample['origin_lat'].astype(str) + ',' + final_sample['origin_lng'].astype(str)\n",
    "final_sample['destination'] = final_sample['destination_lat'].astype(str) + ',' + final_sample['destination_lng'].astype(str)\n",
    "\n",
    "# Drop the individual latitude and longitude columns\n",
    "final_sample = final_sample.drop(['origin_lat', 'origin_lng', 'destination_lat', 'destination_lng'], axis=1)\n",
    "\n",
    "# Save the final DataFrame to the same CSV file\n",
    "final_sample.to_csv('/Users/pintoza/Desktop/dev/data-science/walmart-proximity/data/processed/time_distance_sample.csv', index=False)"
   ],
   "metadata": {
    "collapsed": false,
    "ExecuteTime": {
     "end_time": "2024-01-08T15:05:04.720030Z",
     "start_time": "2024-01-08T15:05:04.672900Z"
    }
   },
   "id": "5fc9f55277efe5b3"
  },
  {
   "cell_type": "code",
   "execution_count": 16,
   "outputs": [],
   "source": [
    "import pandas as pd\n",
    "\n",
    "# Load the sample data\n",
    "time_distance_sample = pd.read_csv('/Users/pintoza/Desktop/dev/data-science/walmart-proximity/data/processed/time_distance_sample.csv')\n",
    "\n",
    "# Remove any duplicate rows (considering the entire row)\n",
    "time_distance_sample = time_distance_sample.drop_duplicates()\n",
    "\n",
    "# Check if the DataFrame has more rows than needed\n",
    "num_rows_to_remove = len(time_distance_sample) - 4193\n",
    "\n",
    "if num_rows_to_remove > 0:\n",
    "    # Randomly delete rows until we have 4193 rows\n",
    "    time_distance_sample = time_distance_sample.sample(n=4193)\n",
    "\n",
    "# Save the updated DataFrame back to the CSV file\n",
    "time_distance_sample.to_csv('/Users/pintoza/Desktop/dev/data-science/walmart-proximity/data/processed/time_distance_sample.csv', index=False)"
   ],
   "metadata": {
    "collapsed": false,
    "ExecuteTime": {
     "end_time": "2024-01-08T16:09:18.530631Z",
     "start_time": "2024-01-08T16:09:18.495857Z"
    }
   },
   "id": "f899dce87f56acd1"
  },
  {
   "cell_type": "code",
   "execution_count": 17,
   "outputs": [],
   "source": [
    "# Reordering the columns of the DataFrame\n",
    "reordered_sample = time_distance_sample[['origin', 'destination', 'ruca', 'great_circle_distance']]\n",
    "\n",
    "# Save the reordered DataFrame back to the CSV file\n",
    "reordered_sample.to_csv('/Users/pintoza/Desktop/dev/data-science/walmart-proximity/data/processed/time_distance_sample.csv', index=False)"
   ],
   "metadata": {
    "collapsed": false,
    "ExecuteTime": {
     "end_time": "2024-01-08T16:11:08.730470Z",
     "start_time": "2024-01-08T16:11:08.720903Z"
    }
   },
   "id": "88de2d40d5d02041"
  },
  {
   "cell_type": "code",
   "execution_count": null,
   "outputs": [],
   "source": [],
   "metadata": {
    "collapsed": false
   },
   "id": "b7e617c47455c1db"
  }
 ],
 "metadata": {
  "kernelspec": {
   "display_name": "Python 3",
   "language": "python",
   "name": "python3"
  },
  "language_info": {
   "codemirror_mode": {
    "name": "ipython",
    "version": 2
   },
   "file_extension": ".py",
   "mimetype": "text/x-python",
   "name": "python",
   "nbconvert_exporter": "python",
   "pygments_lexer": "ipython2",
   "version": "2.7.6"
  }
 },
 "nbformat": 4,
 "nbformat_minor": 5
}
